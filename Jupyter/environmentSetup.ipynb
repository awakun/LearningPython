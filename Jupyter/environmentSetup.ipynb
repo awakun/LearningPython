{
 "cells": [
  {
   "cell_type": "markdown",
   "metadata": {},
   "source": [
    "# Setting up environment\r\n",
    "\r\n",
    "## Install Python\r\n",
    "\r\n",
    "* I opted to install python from the Microsoft Store, choco wouldn't install it in a non-admin location which meant I'd have to run pip as admin.\r\n",
    "* Had to add Python and Scripts folder to PATH, added the following (expand $home, truncated here intentionally):\r\n",
    "    * $home\\appdata\\local\\packages\\pythonsoftwarefoundation.python.3.9_qbz5n2kfra8p0\\localcache\\local-packages\\python39\\scripts\\\r\n",
    "    * $home\\appdata\\local\\packages\\pythonsoftwarefoundation.python.3.9_qbz5n2kfra8p0\\localcache\\local-packages\\python39\\\r\n",
    "\r\n",
    "## Install and setup virtualenv\r\n",
    "\r\n",
    "* Followed instructions found here:\r\n",
    "    * https://techinscribed.com/python-virtual-environment-in-vscode/\r\n",
    "\r\n",
    "    ```powershell\r\n",
    "    pip install virtualenv\r\n",
    "    New-Item -ItemType Directory -Name $home\\.virtualenv\r\n",
    "    Push-Location -Path $home\\.virtualenv\r\n",
    "    virtualenv venv\r\n",
    "    ```\r\n",
    "\r\n",
    "    * Added virtualenv setting in VSCode:\r\n",
    "\r\n",
    "    ```json\r\n",
    "    {\r\n",
    "        \"python.venvPath\": \"PathToAboveNewFolder\"\r\n",
    "    }\r\n",
    "    ```\r\n",
    "\r\n",
    "## Setup VSCode\r\n",
    "\r\n",
    "*VSCode is my editor of choice because it's so versatile (and I've been working with it for a while). List does not include extensions I already had.*\r\n",
    "\r\n",
    "* Extension list was gathered from the following pages, all credit to the authors:\r\n",
    "    * https://www.shaneoneill.io/2019/02/21/my-python-vs-code-setup/\r\n",
    "    * https://thenextweb.com/syndication/2021/01/21/the-6-best-developer-laptops-for-2021/\r\n",
    "    * https://www.dunebook.com/best-vscode-python-extensions/\r\n",
    "* Install extensions\r\n",
    "\r\n",
    "    ```powershell\r\n",
    "    $extensions = (\r\n",
    "        'hbenl.vscode-test-explorer',\r\n",
    "        'littlefoxteam.vscode-python-test-adapter',\r\n",
    "        'ms-python.python',\r\n",
    "        'ms-toolsai.jupyter',\r\n",
    "        'njpwerner.autodocstring',\r\n",
    "        'shardulm94.trailing-spaces',\r\n",
    "        'brainfit.vscode-importmagic'\r\n",
    "    )\r\n",
    "    $extensions | Foreach-Object {code --install-extension $_}\r\n",
    "    ```"
   ]
  },
  {
   "cell_type": "code",
   "execution_count": null,
   "metadata": {},
   "outputs": [],
   "source": []
  }
 ],
 "metadata": {
  "kernelspec": {
   "display_name": "Python 3",
   "language": "python",
   "name": "python3"
  },
  "language_info": {
   "codemirror_mode": {
    "name": "ipython",
    "version": 3
   },
   "file_extension": ".py",
   "mimetype": "text/x-python",
   "name": "python",
   "nbconvert_exporter": "python",
   "pygments_lexer": "ipython3",
   "version": "3.9.1-final"
  },
  "orig_nbformat": 2
 },
 "nbformat": 4,
 "nbformat_minor": 2
}