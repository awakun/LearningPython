{
 "cells": [
  {
   "cell_type": "markdown",
   "metadata": {},
   "source": [
    "# If Statements\r\n",
    "\r\n",
    "## Basic example"
   ]
  },
  {
   "cell_type": "code",
   "execution_count": 1,
   "metadata": {},
   "outputs": [
    {
     "name": "stdout",
     "output_type": "stream",
     "text": [
      "Audi\n",
      "BMW\n",
      "Toyota\n",
      "Dodge\n"
     ]
    }
   ],
   "source": [
    "cars = ['audi', 'bmw', 'toyota', 'dodge']\r\n",
    "for car in cars:\r\n",
    "    if car == 'bmw':\r\n",
    "        print(car.upper())\r\n",
    "    else:\r\n",
    "        print(car.title())"
   ]
  },
  {
   "cell_type": "markdown",
   "metadata": {},
   "source": [
    "## Conditional Tests\r\n",
    "\r\n",
    "* equality test is `==`\r\n",
    "* Case sensitive. Use .lower() to test something in a sort of case insensitive way.\r\n",
    "* Inequality test is `!=`\r\n",
    "* Logical and is `and`, likewise logical or is `or`\r\n",
    "* Check if array contains value with `in`"
   ]
  },
  {
   "cell_type": "code",
   "execution_count": 4,
   "metadata": {},
   "outputs": [
    {
     "name": "stdout",
     "output_type": "stream",
     "text": [
      "True\n",
      "True\n",
      "True\n",
      "True\n",
      "True\n"
     ]
    }
   ],
   "source": [
    "print('test' == 'Test'.lower())\r\n",
    "print('test' != 'Test')\r\n",
    "print((2 + 3) == 5 and (3 + 4) == 7)\r\n",
    "print('test' != 'Test' or (2 + 2) == 7)\r\n",
    "print('audi' in cars)"
   ]
  },
  {
   "cell_type": "markdown",
   "metadata": {},
   "source": [
    "* use `not` with `in` to negate it.\r\n",
    "* Boolean values (keywords) are `True` and `False` (note: title case)"
   ]
  },
  {
   "cell_type": "markdown",
   "metadata": {},
   "source": [
    "## If Statements\r\n",
    "\r\n",
    "* `if` is the keyword\r\n",
    "* `else` for else statements\r\n",
    "* `elif` for \"else if\"\r\n",
    "* empty lists evaluate to `False` (just like PowerShell)\r\n",
    "* PEP8 recommends a space around conditional operators\r\n",
    "* "
   ]
  }
 ],
 "metadata": {
  "kernelspec": {
   "display_name": "Python 3",
   "language": "python",
   "name": "python3"
  },
  "language_info": {
   "codemirror_mode": {
    "name": "ipython",
    "version": 3
   },
   "file_extension": ".py",
   "mimetype": "text/x-python",
   "name": "python",
   "nbconvert_exporter": "python",
   "pygments_lexer": "ipython3",
   "version": "3.9.1"
  },
  "orig_nbformat": 2
 },
 "nbformat": 4,
 "nbformat_minor": 2
}