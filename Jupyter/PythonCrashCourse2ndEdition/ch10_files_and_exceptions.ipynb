{
 "cells": [
  {
   "cell_type": "markdown",
   "metadata": {},
   "source": [
    "# Files and Exceptions\r\n",
    "\r\n",
    "## Reading From a File\r\n",
    "\r\n",
    "* You can use `open(<path>)` to work with a file. Works with either relative or absolute paths but be careful because the path the script is running in is not always the path your files might be in.\r\n",
    "* The keyword `with` will close a file when it no longer needs to be open. The block following the with statement will execute and then the file will be closed.\r\n",
    "* There is also a `close()` method that you can use, but bugs can cause a file to be left open. This can cause data corruption/loss.\r\n",
    "* `read()` method will read the entire contents of the file and store it as a string.\r\n",
    "    * This will usually add an extra blank line, you can use `rstrip()` to remove it.\r\n",
    "\r\n",
    "### File paths\r\n",
    "\r\n",
    "* Passing a filename alone or a relative path with or without `./` will cause Python to look in the current working directory.\r\n",
    "* `/` works for Windows filepaths. You can also escape back slashes but it's messy.\r\n",
    "* Use this trick for getting a file's absolute path (which is more reliable)"
   ]
  },
  {
   "cell_type": "code",
   "execution_count": null,
   "metadata": {},
   "outputs": [],
   "source": [
    "# NOTE: Won't work inside Jupyter\r\n",
    "import os\r\n",
    "THIS_FOLDER = os.path.dirname(os.path.abspath(__file__))\r\n",
    "print(THIS_FOLDER)"
   ]
  },
  {
   "cell_type": "code",
   "execution_count": 11,
   "metadata": {},
   "outputs": [],
   "source": [
    "# To be able to use the samples in Jupyter\r\n",
    "import os\r\n",
    "THIS_FOLDER = os.getcwd()\r\n",
    "pi_digits_path = os.path.join(THIS_FOLDER, 'ch10_files', 'pi_digits.txt')"
   ]
  },
  {
   "cell_type": "markdown",
   "metadata": {},
   "source": [
    "### Reading Line by Line\r\n",
    "\r\n",
    "* You can use a for loop to go through an opened file line by line:"
   ]
  },
  {
   "cell_type": "code",
   "execution_count": 12,
   "metadata": {},
   "outputs": [
    {
     "name": "stdout",
     "output_type": "stream",
     "text": [
      "3.1415926535\n",
      "\n",
      "  8979323846\n",
      "\n",
      "  2643383279\n"
     ]
    }
   ],
   "source": [
    "with open(pi_digits_path) as file_object:\r\n",
    "    for line in file_object:\r\n",
    "        print(line)"
   ]
  },
  {
   "cell_type": "markdown",
   "metadata": {},
   "source": [
    "* Extra lines appear here because `print()` includes its own newline characters. You can again fix this with `rstrip()` to strip out the line's newline character."
   ]
  },
  {
   "cell_type": "code",
   "execution_count": 13,
   "metadata": {},
   "outputs": [
    {
     "name": "stdout",
     "output_type": "stream",
     "text": [
      "3.1415926535\n",
      "  8979323846\n",
      "  2643383279\n"
     ]
    }
   ],
   "source": [
    "with open(pi_digits_path) as file_object:\r\n",
    "    for line in file_object:\r\n",
    "        print(line.rstrip())"
   ]
  },
  {
   "cell_type": "markdown",
   "metadata": {},
   "source": [
    "## Making a list of Lines From a File\r\n",
    "\r\n",
    "* When you use `with` the file is only open until the block is done. To continue working with the contents you can save the contents to a list with `readlines()`:"
   ]
  },
  {
   "cell_type": "code",
   "execution_count": 14,
   "metadata": {},
   "outputs": [
    {
     "name": "stdout",
     "output_type": "stream",
     "text": [
      "3.1415926535\n",
      "  8979323846\n",
      "  2643383279\n"
     ]
    }
   ],
   "source": [
    "with open(pi_digits_path) as file_object:\r\n",
    "    lines = file_object.readlines()\r\n",
    "\r\n",
    "for line in lines:\r\n",
    "    print(line.rstrip())"
   ]
  },
  {
   "cell_type": "markdown",
   "metadata": {},
   "source": [
    "* You can now work with the contents, now stored in `lines`"
   ]
  },
  {
   "cell_type": "code",
   "execution_count": 17,
   "metadata": {},
   "outputs": [
    {
     "name": "stdout",
     "output_type": "stream",
     "text": [
      "3.141592653589793238462643383279\n",
      "32\n"
     ]
    }
   ],
   "source": [
    "# Make everything a single string.\r\n",
    "pi_string = ''\r\n",
    "for line in lines:\r\n",
    "    pi_string += line.strip()\r\n",
    "\r\n",
    "print(pi_string)\r\n",
    "print(len(pi_string))"
   ]
  },
  {
   "cell_type": "markdown",
   "metadata": {},
   "source": [
    "## Writing to a File\r\n",
    "\r\n",
    "* In order to write to a file, call `open()` with a second argument, which tells Python what mode you want to open the file in.\r\n",
    "    * `r` read mode - pointer is placed at the beginning of the file. This is the default mode if none is provided.\r\n",
    "    * `r+` - opens a file for both reading and writing. Pointer placed at the beginning of the file.\r\n",
    "    * `w` write mode - Overwrites the file if the file exists or creates a new one if it doesn't.\r\n",
    "    * `w+` opens a file for both reading and writing, overwrites the existing file if it exists or creates a new one if it doesn't.'\r\n",
    "    * `rb` Opens a file for reading only in binary format, pointer is placed at the beginning of the file.\r\n",
    "    * `rb+` basically r+ but binary format\r\n",
    "    * `wb+` basically w+ but binary format\r\n",
    "    * `a` append mode, pointer is placed at the end of the file. Creates a new file if it doesn't exist.\r\n",
    "    * `ab` same as a but binary format.\r\n",
    "    * `a+` Opens a file for both appending and reading. The pointer is placed at the end of the file and if it doesn't exist it will be created.\r\n",
    "    * `ab+` same as a+ but binary format.\r\n",
    "    * `x` open for exclusive creation, failing the file if it already exists.\r\n",
    "* Python can only store strings in a text based file, if you're storing numerical data you have to convert it using `str()` first."
   ]
  },
  {
   "cell_type": "code",
   "execution_count": 26,
   "metadata": {},
   "outputs": [],
   "source": [
    "filename = os.path.join(THIS_FOLDER, 'ch10_files', 'programming.txt')\r\n",
    "with open(filename, 'w') as file_object:\r\n",
    "    file_object.write(\"I love programming.\\n\")\r\n",
    "    file_object.write(\"I love creating new games.\")"
   ]
  },
  {
   "cell_type": "code",
   "execution_count": 27,
   "metadata": {},
   "outputs": [
    {
     "name": "stdout",
     "output_type": "stream",
     "text": [
      "I love programming.\n",
      "I love creating new games.\n"
     ]
    }
   ],
   "source": [
    "# Reading it back for purpose of the notebook\r\n",
    "with open(filename) as file_object:\r\n",
    "    print(file_object.read())"
   ]
  },
  {
   "cell_type": "markdown",
   "metadata": {},
   "source": [
    "## Appending to a File\r\n",
    "\r\n",
    "* Basically the same as writing, just use the append mode on the `open()` method:"
   ]
  },
  {
   "cell_type": "code",
   "execution_count": 28,
   "metadata": {},
   "outputs": [],
   "source": [
    "with open(filename, 'a') as file_object:\r\n",
    "    file_object.write(\"\\nNaked parties are fun.\")"
   ]
  },
  {
   "cell_type": "code",
   "execution_count": 29,
   "metadata": {},
   "outputs": [
    {
     "name": "stdout",
     "output_type": "stream",
     "text": [
      "I love programming.\n",
      "I love creating new games.\n",
      "Naked parties are fun.\n"
     ]
    }
   ],
   "source": [
    "# Reading it back again\r\n",
    "with open(filename) as file_object:\r\n",
    "    print(file_object.read())"
   ]
  },
  {
   "cell_type": "markdown",
   "metadata": {},
   "source": [
    "## Exceptions\r\n",
    "\r\n",
    "* Exceptions are handled by `try-except` blocks (similar to try/catch in PowerShell)\r\n",
    "\r\n",
    "### Handling the ZeroDivisionError Exception\r\n",
    "\r\n",
    "* You can't divide by 0 in Python as in real life. But sometimes your code might try to. Here's how you handle it gracefully:"
   ]
  },
  {
   "cell_type": "code",
   "execution_count": 30,
   "metadata": {},
   "outputs": [
    {
     "name": "stdout",
     "output_type": "stream",
     "text": [
      "You can't divide by zero, silly!\n"
     ]
    }
   ],
   "source": [
    "try:\r\n",
    "    print(5/0)\r\n",
    "except ZeroDivisionError:\r\n",
    "    print(\"You can't divide by zero, silly!\")"
   ]
  },
  {
   "cell_type": "markdown",
   "metadata": {},
   "source": [
    "### The else Block\r\n",
    "\r\n",
    "* You can add `else:` to the end of a `try-except` block. Anything in the `else:` block will run only if the `try:` block succeeds.\r\n",
    "* `pass:` tells Python to do nothing and continue, useful for silencing exceptions and continuing operation."
   ]
  },
  {
   "cell_type": "code",
   "execution_count": 31,
   "metadata": {},
   "outputs": [
    {
     "name": "stdout",
     "output_type": "stream",
     "text": [
      "1.0\n",
      "Done.\n"
     ]
    }
   ],
   "source": [
    "try:\r\n",
    "    print(5/5)\r\n",
    "except ZeroDivisionError:\r\n",
    "    print(\"You can't divide by zero, silly!\")\r\n",
    "else:\r\n",
    "    print(\"Done.\")"
   ]
  },
  {
   "cell_type": "code",
   "execution_count": 32,
   "metadata": {},
   "outputs": [],
   "source": [
    "try:\r\n",
    "    print(5/0)\r\n",
    "except ZeroDivisionError:\r\n",
    "    pass # silent error\r\n",
    "else:\r\n",
    "    print(\"Done.\") # Note this doesn't run."
   ]
  },
  {
   "cell_type": "markdown",
   "metadata": {},
   "source": [
    "## Storing Data using JSON\r\n",
    "\r\n",
    "* The json module is built-in\r\n",
    "* `json.dump()` stores information as json in a file\r\n",
    "* `json.load()` loads json information from a file"
   ]
  },
  {
   "cell_type": "code",
   "execution_count": 38,
   "metadata": {},
   "outputs": [
    {
     "name": "stdout",
     "output_type": "stream",
     "text": [
      "[2, 3, 5, 7, 11, 13]\n"
     ]
    }
   ],
   "source": [
    "import json\r\n",
    "filename = os.path.join(THIS_FOLDER, 'ch10_files', 'numbers.json')\r\n",
    "\r\n",
    "numbers = [2, 3, 5, 7, 11, 13]\r\n",
    "with open(filename, 'w') as f:\r\n",
    "    json.dump(numbers, f)\r\n",
    "\r\n",
    "# Read it back\r\n",
    "with open(filename) as f:\r\n",
    "    print(json.load(f))"
   ]
  }
 ],
 "metadata": {
  "kernelspec": {
   "display_name": "Python 3.9.1  ('.venv': venv)",
   "metadata": {
    "interpreter": {
     "hash": "ac5c073bd83283de4cf5750d55c354c3b877ecc9add5680c631bd48a436d782a"
    }
   },
   "name": "python3"
  },
  "language_info": {
   "codemirror_mode": {
    "name": "ipython",
    "version": 3
   },
   "file_extension": ".py",
   "mimetype": "text/x-python",
   "name": "python",
   "nbconvert_exporter": "python",
   "pygments_lexer": "ipython3",
   "version": "3.9.1"
  },
  "orig_nbformat": 2
 },
 "nbformat": 4,
 "nbformat_minor": 2
}