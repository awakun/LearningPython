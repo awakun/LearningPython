{
 "cells": [
  {
   "cell_type": "markdown",
   "metadata": {},
   "source": [
    "# User Input and While Loops\r\n",
    "\r\n",
    "Note, I skipped a lot of the exercises and such here, this chapter was pretty basic.\r\n",
    "\r\n",
    "## How input() Works\r\n",
    "\r\n",
    "* `input` is what you use to pause and grab user input from the console:"
   ]
  },
  {
   "cell_type": "code",
   "execution_count": 19,
   "metadata": {},
   "outputs": [
    {
     "name": "stdout",
     "output_type": "stream",
     "text": [
      "You said your name was dave\n"
     ]
    }
   ],
   "source": [
    "name = input(\"What's your name? \")\r\n",
    "print(f'You said your name was {name}')"
   ]
  },
  {
   "cell_type": "markdown",
   "metadata": {},
   "source": [
    "* Use `int()` to convert numbers to ints"
   ]
  },
  {
   "cell_type": "code",
   "execution_count": 20,
   "metadata": {},
   "outputs": [
    {
     "name": "stdout",
     "output_type": "stream",
     "text": [
      "In 10 years, you will be 43 years old.\n"
     ]
    }
   ],
   "source": [
    "age = input(\"How old are you? \")\r\n",
    "future_age = int(age) + 10\r\n",
    "print(f\"In 10 years, you will be {future_age} years old.\")"
   ]
  },
  {
   "cell_type": "markdown",
   "metadata": {},
   "source": [
    "## Some more operators\r\n",
    "\r\n",
    "* `+=` concatenates strings to an existing variable.\r\n",
    "* `>=` and `<=` represent greater than/less than numerical comparisons respectively.\r\n",
    "* `%` is modulo operator\r\n",
    "\r\n",
    "## While loops\r\n",
    "\r\n",
    "* Use `while` loops to continue execution while a condition is true (just like most languages)\r\n",
    "* `break` breaks out of a loop immediately\r\n",
    "* A while loop set to `True` without `break` will loop forever\r\n",
    "* `continue` returns to the beginning of the loop"
   ]
  },
  {
   "cell_type": "code",
   "execution_count": 21,
   "metadata": {},
   "outputs": [
    {
     "name": "stdout",
     "output_type": "stream",
     "text": [
      "[2, 3, 5, 7, 11, 13, 17, 19, 23, 29, 31, 37, 41, 43, 47, 53, 59, 61, 67, 71, 73, 79, 83, 89, 97, 101, 103, 107, 109, 113]\n"
     ]
    }
   ],
   "source": [
    "# This is most likely horribly efficient, just highlighting some loops and stuff\r\n",
    "# Find the first 30 prime numbers\r\n",
    "primes = []\r\n",
    "num = 1\r\n",
    "while len(primes) < 30:\r\n",
    "    num += 1\r\n",
    "    is_prime = True\r\n",
    "    for i in range(2, num):\r\n",
    "        if num % i == 0:\r\n",
    "            is_prime = False\r\n",
    "\r\n",
    "    if is_prime:\r\n",
    "        primes.append(num)\r\n",
    "print(primes)"
   ]
  }
 ],
 "metadata": {
  "kernelspec": {
   "display_name": "Python 3",
   "language": "python",
   "name": "python3"
  },
  "language_info": {
   "codemirror_mode": {
    "name": "ipython",
    "version": 3
   },
   "file_extension": ".py",
   "mimetype": "text/x-python",
   "name": "python",
   "nbconvert_exporter": "python",
   "pygments_lexer": "ipython3",
   "version": "3.9.1"
  },
  "orig_nbformat": 2
 },
 "nbformat": 4,
 "nbformat_minor": 2
}