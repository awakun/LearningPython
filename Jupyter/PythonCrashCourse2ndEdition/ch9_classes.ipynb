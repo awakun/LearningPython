{
 "cells": [
  {
   "cell_type": "markdown",
   "metadata": {},
   "source": [
    "# Classes\r\n",
    "\r\n",
    "## Creating and using a class\r\n",
    "\r\n",
    "* Use the `class` keyword\r\n",
    "* `__init__` method is the initialization method for classes in Python, similar to Ruby's initialize, it is called automatically when an instance of the class is created.\r\n",
    "* Attributes (class variables Ruby equivalent) are set using the `self` keyword.\r\n",
    "* Style:\r\n",
    "    * By convention capitalized names (CamelCase) refer to classes in Python. Don't use underscores in class names.\r\n",
    "    * Should have a docstring following the class definition.\r\n",
    "    * Modules containing classes should have docstrings describing the classes available and what they can be used for.\r\n",
    "    * Import statements for standard libraries should come before importing custom modules with a blank line in between.\r\n",
    "    * Methods inside classes should be separated by a blank line."
   ]
  },
  {
   "cell_type": "code",
   "execution_count": 1,
   "metadata": {},
   "outputs": [],
   "source": [
    "class LaserCat:\r\n",
    "    \"\"\"A simple attempt to model a laser cat.\"\"\"\r\n",
    "\r\n",
    "    def __init__(self, name, age):\r\n",
    "        \"\"\"Initialize name and age attributes\"\"\"\r\n",
    "        self.name = name\r\n",
    "        self.age = age\r\n",
    "\r\n",
    "    def chase_laser(self):\r\n",
    "        \"\"\"Simulate a cat chasing a laser.\"\"\"\r\n",
    "        print(f\"{self.name} is chasing a laser.\")\r\n",
    "\r\n",
    "    def shoot_laser(self):\r\n",
    "        \"\"\"Simulate a laser cat shooting its eyebeams\"\"\"\r\n",
    "        print(f\"You fired {self.name}'s laser eyebeams!\")"
   ]
  },
  {
   "cell_type": "markdown",
   "metadata": {},
   "source": [
    "## Instantiating a Class\r\n",
    "\r\n",
    "* Call the class by name and provide any arguments in `()`.\r\n",
    "* Call attributes on the class using dot notation e.g. `LaserCat.name`\r\n",
    "* Call class methods with dot notation and `()` with any arguments needed inside the parenthesis.\r\n",
    "* Can create as many instances of a class as you want, but as expected they are separate."
   ]
  },
  {
   "cell_type": "code",
   "execution_count": 2,
   "metadata": {},
   "outputs": [
    {
     "name": "stdout",
     "output_type": "stream",
     "text": [
      "My laser cat's name is Midnight and it's 7 years old.\n",
      "You fired Midnight's laser eyebeams!\n"
     ]
    }
   ],
   "source": [
    "my_laser_cat = LaserCat('Midnight', 7)\r\n",
    "print(f\"My laser cat's name is {my_laser_cat.name} and it's {my_laser_cat.age} years old.\")\r\n",
    "my_laser_cat.shoot_laser()"
   ]
  },
  {
   "cell_type": "markdown",
   "metadata": {},
   "source": [
    "## Exercise 9-1"
   ]
  },
  {
   "cell_type": "code",
   "execution_count": 3,
   "metadata": {},
   "outputs": [],
   "source": [
    "class Restaurant:\r\n",
    "    \"\"\"A simple restaurant model.\"\"\"\r\n",
    "\r\n",
    "    def __init__(self, restaurant_name, cuisine_type):\r\n",
    "        self.restaurant_name = restaurant_name\r\n",
    "        self.cuisine_type = cuisine_type\r\n",
    "\r\n",
    "    def describe_restaurant(self):\r\n",
    "        \"\"\"A simple description of the restaurant.\"\"\"\r\n",
    "        print(f\"{self.restaurant_name} serves {self.cuisine_type} food.\")\r\n",
    "\r\n",
    "    def open_restaurant(self):\r\n",
    "        \"\"\"Opening message.\"\"\"\r\n",
    "        print(f'{self.restaurant_name} is now open!')"
   ]
  },
  {
   "cell_type": "markdown",
   "metadata": {},
   "source": [
    "## Exercise 9-2"
   ]
  },
  {
   "cell_type": "code",
   "execution_count": 4,
   "metadata": {},
   "outputs": [
    {
     "name": "stdout",
     "output_type": "stream",
     "text": [
      "Silver Spoon serves Thai food.\n",
      "McDonalds serves fCamelCaseCast food.\n",
      "Cactus serves Mexican food.\n"
     ]
    }
   ],
   "source": [
    "silver_spoon = Restaurant(\"Silver Spoon\", \"Thai\")\r\n",
    "mcdonalds = Restaurant(\"McDonalds\", \"fCamelCaseCast\")\r\n",
    "cactus = Restaurant(\"Cactus\", \"Mexican\")\r\n",
    "silver_spoon.describe_restaurant()\r\n",
    "mcdonalds.describe_restaurant()\r\n",
    "cactus.describe_restaurant()"
   ]
  },
  {
   "cell_type": "markdown",
   "metadata": {},
   "source": [
    "## Working with Classes and Instances\r\n",
    "\r\n",
    "Starting with a class that will change over time:"
   ]
  },
  {
   "cell_type": "code",
   "execution_count": 5,
   "metadata": {},
   "outputs": [],
   "source": [
    "class Snowboarder:\r\n",
    "    \"\"\"A simple modeled snowboarder.\"\"\"\r\n",
    "\r\n",
    "    def __init__(self, name, number_of_trails):\r\n",
    "        \"\"\"Initialize the snowboarder's name and number_of_trails attributes.\"\"\"\r\n",
    "        self.name = name\r\n",
    "        self.number_of_trails = number_of_trails\r\n",
    "\r\n",
    "    def read_stats(self):\r\n",
    "        \"\"\"Get the snowboarder's trail stats.\"\"\"\r\n",
    "        print(f\"{self.name} has ridden {self.number_of_trails} trails this year, awesome!\")"
   ]
  },
  {
   "cell_type": "markdown",
   "metadata": {},
   "source": [
    "* Can change an attribute via an instance of the class:"
   ]
  },
  {
   "cell_type": "code",
   "execution_count": 6,
   "metadata": {},
   "outputs": [
    {
     "name": "stdout",
     "output_type": "stream",
     "text": [
      "Dave has ridden 125 trails this year, awesome!\n",
      "Dave has ridden 145 trails this year, awesome!\n"
     ]
    }
   ],
   "source": [
    "dave = Snowboarder(\"Dave\", 125)\r\n",
    "dave.read_stats()\r\n",
    "\r\n",
    "# change it\r\n",
    "dave.number_of_trails = 145\r\n",
    "dave.read_stats()"
   ]
  },
  {
   "cell_type": "markdown",
   "metadata": {},
   "source": [
    " can modify an attribute via another method like the `update_stats` method added to the class below.\r\n",
    "* You can increment an attribute through another method like in the `increment_trail_stats` method added to the cla"
   ]
  },
  {
   "cell_type": "code",
   "execution_count": 7,
   "metadata": {},
   "outputs": [
    {
     "name": "stdout",
     "output_type": "stream",
     "text": [
      "Dave has ridden 125 trails this year, awesome!\n",
      "Dave has ridden 150 trails this year, awesome!\n",
      "Dave has ridden 160 trails this year, awesome!\n"
     ]
    }
   ],
   "source": [
    "class Snowboarder:\r\n",
    "    \"\"\"A simple modeled snowboarder.\"\"\"\r\n",
    "\r\n",
    "    def __init__(self, name, number_of_trails):\r\n",
    "        \"\"\"Initialize the snowboarder's name and number_of_trails attributes.\"\"\"\r\n",
    "        self.name = name\r\n",
    "        self.number_of_trails = number_of_trails\r\n",
    "\r\n",
    "    def read_stats(self):\r\n",
    "        \"\"\"Get the snowboarder's trail stats.\"\"\"\r\n",
    "        print(f\"{self.name} has ridden {self.number_of_trails} trails this year, awesome!\")\r\n",
    "\r\n",
    "    def update_stats(self, number_of_trails):\r\n",
    "        \"\"\"Update the snowboarder's trail stats.\"\"\"\r\n",
    "        self.number_of_trails = number_of_trails\r\n",
    "\r\n",
    "    def increment_trail_stats(self, number_of_trails):\r\n",
    "        \"\"\"Update the snowboarder's trail stats by the number_of_trails\"\"\"\r\n",
    "        self.number_of_trails += number_of_trails\r\n",
    "\r\n",
    "# Instantiate a Snowboarder and read their stats.\r\n",
    "dave = Snowboarder(\"Dave\", 125)\r\n",
    "dave.read_stats()\r\n",
    "\r\n",
    "# Update the stats using the new class method update_stats\r\n",
    "dave.update_stats(150)\r\n",
    "dave.read_stats()\r\n",
    "\r\n",
    "# Update the stats using the new class method increment_trail_stats\r\n",
    "dave.increment_trail_stats(10)\r\n",
    "dave.read_stats()"
   ]
  },
  {
   "cell_type": "markdown",
   "metadata": {},
   "source": [
    "## Exercise 9-4"
   ]
  },
  {
   "cell_type": "code",
   "execution_count": 8,
   "metadata": {},
   "outputs": [
    {
     "name": "stdout",
     "output_type": "stream",
     "text": [
      "0\n",
      "25000\n",
      "25311\n"
     ]
    }
   ],
   "source": [
    "class Restaurant:\r\n",
    "    \"\"\"A simple restaurant model.\"\"\"\r\n",
    "\r\n",
    "    def __init__(self, restaurant_name, cuisine_type, number_served = 0):\r\n",
    "        \"\"\"Initialize the restaurant's attributes.\"\"\"\r\n",
    "        self.restaurant_name = restaurant_name\r\n",
    "        self.cuisine_type = cuisine_type\r\n",
    "        self.number_served = number_served\r\n",
    "\r\n",
    "    def describe_restaurant(self):\r\n",
    "        \"\"\"A simple description of the restaurant.\"\"\"\r\n",
    "        print(f\"{self.restaurant_name} serves {self.cuisine_type} food.\")\r\n",
    "\r\n",
    "    def open_restaurant(self):\r\n",
    "        \"\"\"Opening message.\"\"\"\r\n",
    "        print(f'{self.restaurant_name} is now open!')\r\n",
    "\r\n",
    "    def set_number_served(self, number_served):\r\n",
    "        \"\"\"Sets the number of customers served by the restaurant.\"\"\"\r\n",
    "        self.number_served = number_served\r\n",
    "\r\n",
    "    def increment_number_served(self, number_served):\r\n",
    "        \"\"\"Increments the number of customers served by the restaurant by number_served.\"\"\"\r\n",
    "        self.number_served += number_served\r\n",
    "\r\n",
    "silver_spoon = Restaurant(\"Silver Spoon\", \"Thai\")\r\n",
    "print(f\"{silver_spoon.number_served}\")\r\n",
    "\r\n",
    "# Update number served\r\n",
    "silver_spoon.set_number_served(25_000)\r\n",
    "print(f\"{silver_spoon.number_served}\")\r\n",
    "\r\n",
    "# Use increment method\r\n",
    "silver_spoon.increment_number_served(311)\r\n",
    "print(f\"{silver_spoon.number_served}\")"
   ]
  },
  {
   "cell_type": "markdown",
   "metadata": {},
   "source": [
    "## Inheritance\r\n",
    "\r\n",
    "* When a class inherits from another class, it takes on its attributes.\r\n",
    "* You can override a super class' method with a new version in the sub class."
   ]
  },
  {
   "cell_type": "code",
   "execution_count": 9,
   "metadata": {},
   "outputs": [
    {
     "name": "stdout",
     "output_type": "stream",
     "text": [
      "Julie doesn't need trails where they're headed!\n",
      "Julie used a helicopter, that's wild!\n"
     ]
    }
   ],
   "source": [
    "class BackCountrySnowboarder(Snowboarder):\r\n",
    "    \"\"\"Represent aspects of a snowboarder, specific to back country snowboarding.\"\"\"\r\n",
    "\r\n",
    "    def __init__(self, name, number_of_trails = 0, helicopter = False):\r\n",
    "        \"\"\"Initialize the attributes of the parent class.\"\"\"\r\n",
    "        super().__init__(name, number_of_trails)\r\n",
    "        self.helicopter = helicopter\r\n",
    "\r\n",
    "    def get_drop_in_method(self):\r\n",
    "        \"\"\"Get whether the snowboarder used a helicopter or hiked.\"\"\"\r\n",
    "        if self.helicopter:\r\n",
    "            print(f\"{self.name} used a helicopter, that's wild!\")\r\n",
    "        else:\r\n",
    "            print(f\"{self.name} hiked all the way to the back country, sick!\")\r\n",
    "\r\n",
    "    def read_stats(self):\r\n",
    "        \"\"\"Replace super class method because BackCountry don't use trails.\"\"\"\r\n",
    "        print(f\"{self.name} doesn't need trails where they're headed!\")\r\n",
    "\r\n",
    "julie = BackCountrySnowboarder(\"Julie\", 0, True)\r\n",
    "julie.read_stats()\r\n",
    "julie.get_drop_in_method()"
   ]
  },
  {
   "cell_type": "markdown",
   "metadata": {},
   "source": [
    "## Instances as Attributes\r\n",
    "\r\n",
    "* You can create an instance of another class and make that a class attribute."
   ]
  },
  {
   "cell_type": "code",
   "execution_count": 10,
   "metadata": {},
   "outputs": [
    {
     "name": "stdout",
     "output_type": "stream",
     "text": [
      "What snowboard, man?\n",
      "Dave rides a sick 2018 Libtech Skate Banana\n"
     ]
    }
   ],
   "source": [
    "class Snowboard:\r\n",
    "    \"\"\"A basic snowboard class.\"\"\"\r\n",
    "\r\n",
    "    def __init__(self, make, model, year):\r\n",
    "        \"\"\"Initialize the snowboard's make, model and year attributes.\"\"\"\r\n",
    "        self.make = make\r\n",
    "        self.model = model\r\n",
    "        self.year = year\r\n",
    "\r\n",
    "# Copied from above except for the new snowboard attribute\r\n",
    "class Snowboarder:\r\n",
    "    \"\"\"A simple modeled snowboarder.\"\"\"\r\n",
    "\r\n",
    "    def __init__(self, name, number_of_trails, board_make = None, board_model = None, board_year = None):\r\n",
    "        \"\"\"Initialize the snowboarder's name and number_of_trails attributes.\"\"\"\r\n",
    "        self.name = name\r\n",
    "        self.number_of_trails = number_of_trails\r\n",
    "        if board_make is not None and board_model is not None and board_year is not None:\r\n",
    "            self.snowboard = Snowboard(board_make, board_model, board_year)\r\n",
    "\r\n",
    "    def read_stats(self):\r\n",
    "        \"\"\"Get the snowboarder's trail stats.\"\"\"\r\n",
    "        print(f\"{self.name} has ridden {self.number_of_trails} trails this year, awesome!\")\r\n",
    "\r\n",
    "    def update_stats(self, number_of_trails):\r\n",
    "        \"\"\"Update the snowboarder's trail stats.\"\"\"\r\n",
    "        self.number_of_trails = number_of_trails\r\n",
    "\r\n",
    "    def increment_trail_stats(self, number_of_trails):\r\n",
    "        \"\"\"Update the snowboarder's trail stats by the number_of_trails\"\"\"\r\n",
    "        self.number_of_trails += number_of_trails\r\n",
    "\r\n",
    "    def describe_snowboard(self):\r\n",
    "        \"\"\"Describe the rider's snowboard.\"\"\"\r\n",
    "        try:\r\n",
    "            print(f\"{self.name} rides a sick {self.snowboard.year} {self.snowboard.make} {self.snowboard.model}\")\r\n",
    "        except AttributeError:\r\n",
    "            print(f\"What snowboard, man?\")\r\n",
    "\r\n",
    "\r\n",
    "tristan = Snowboarder(\"Tristan\", 2)\r\n",
    "tristan.describe_snowboard()\r\n",
    "\r\n",
    "dave = Snowboarder(\"Dave\", 125, \"Libtech\", \"Skate Banana\", 2018)\r\n",
    "dave.describe_snowboard()"
   ]
  },
  {
   "cell_type": "markdown",
   "metadata": {},
   "source": [
    "## Importing Classes\r\n",
    "\r\n",
    "* Can create classes inside modules to make them easy to import (reminder, modules are just .py files in Python.)\r\n",
    "* Importing classes works a lot like importing functions was described in chapter 8.\r\n",
    "    * Still use `import` keyword\r\n",
    "    * Can import specific class with `import ClassName`\r\n",
    "    * Use commas to separate multiple classes you want to import `from module_name import ClassName, ClassName2`\r\n",
    "    * Can still use aliases `from module_name import ClassName as CN`\r\n",
    "\r\n",
    "## The Python Standard Library\r\n",
    "\r\n",
    "* Python comes with some modules included out of the box, for instance `random`:"
   ]
  },
  {
   "cell_type": "code",
   "execution_count": 11,
   "metadata": {},
   "outputs": [
    {
     "name": "stdout",
     "output_type": "stream",
     "text": [
      "5\n",
      "4\n",
      "3\n"
     ]
    }
   ],
   "source": [
    "from random import randint\r\n",
    "print(randint(1,6))\r\n",
    "print(randint(1,6))\r\n",
    "print(randint(1,6))"
   ]
  },
  {
   "cell_type": "markdown",
   "metadata": {},
   "source": [
    "## Exercise 9-13"
   ]
  },
  {
   "cell_type": "code",
   "execution_count": 12,
   "metadata": {},
   "outputs": [
    {
     "name": "stdout",
     "output_type": "stream",
     "text": [
      "d6:\n",
      "1\n",
      "4\n",
      "2\n",
      "6\n",
      "6\n",
      "6\n",
      "1\n",
      "5\n",
      "4\n",
      "6\n",
      "2\n",
      "d10:\n",
      "7\n",
      "3\n",
      "3\n",
      "1\n",
      "7\n",
      "4\n",
      "3\n",
      "2\n",
      "8\n",
      "7\n",
      "4\n",
      "d20:\n",
      "17\n",
      "3\n",
      "1\n",
      "1\n",
      "11\n",
      "8\n",
      "19\n",
      "2\n",
      "10\n",
      "4\n",
      "18\n"
     ]
    }
   ],
   "source": [
    "from random import randint\r\n",
    "class Die:\r\n",
    "    \"\"\"A simple model for dice.\"\"\"\r\n",
    "\r\n",
    "    def __init__(self, sides = 6):\r\n",
    "        \"\"\"Initialize dice with number of sides.\"\"\"\r\n",
    "        self.sides = sides\r\n",
    "\r\n",
    "    def roll_die(self):\r\n",
    "        \"\"\"Roll the die.\"\"\"\r\n",
    "        print(randint(1,self.sides))\r\n",
    "\r\n",
    "d6 = Die()\r\n",
    "d10 = Die(10)\r\n",
    "d20 = Die(20)\r\n",
    "\r\n",
    "print(\"d6:\")\r\n",
    "for i in range(11):\r\n",
    "    d6.roll_die()\r\n",
    "\r\n",
    "print(\"d10:\")\r\n",
    "for i in range(11):\r\n",
    "    d10.roll_die()\r\n",
    "\r\n",
    "print(\"d20:\")\r\n",
    "for i in range(11):\r\n",
    "    d20.roll_die()"
   ]
  },
  {
   "cell_type": "code",
   "execution_count": null,
   "metadata": {},
   "outputs": [],
   "source": []
  }
 ],
 "metadata": {
  "kernelspec": {
   "display_name": "Python 3",
   "language": "python",
   "name": "python3"
  },
  "language_info": {
   "codemirror_mode": {
    "name": "ipython",
    "version": 3
   },
   "file_extension": ".py",
   "mimetype": "text/x-python",
   "name": "python",
   "nbconvert_exporter": "python",
   "pygments_lexer": "ipython3",
   "version": "3.9.1"
  },
  "orig_nbformat": 2
 },
 "nbformat": 4,
 "nbformat_minor": 2
}