{
 "cells": [
  {
   "cell_type": "markdown",
   "metadata": {},
   "source": [
    "# A Ship That Fires Bullets\r\n",
    "\r\n",
    "Alien invasion project part 1.\r\n",
    "\r\n",
    "\r\n",
    "Path to project: $workspace\\AlienInvasionGame\r\n",
    "\r\n",
    "(Github repo is the same name)\r\n",
    "\r\n",
    "* Using pygame (install with pip)\r\n",
    "\r\n",
    "## Starting the Project\r\n",
    "\r\n",
    "We want to start with a pygame window.\r\n",
    "\r\n",
    "### Creating a Pygame Window and Responding to User Input\r\n",
    "\r\n",
    "* Starting by creating a class to represent the game `class AlienInvasion`\r\n",
    "* Using `sys` in order to exit the game.\r\n",
    "* Using `pygame` library which contains functionality needed for the game.\r\n",
    "    * `pygame.init()` function initializes the background settings that pygame needs.\r\n",
    "    * `pygame.display.set_mode()` creates a display window where the game's graphical elements will be drawn. Provide it with a tuple containing resolution to size the window.\r\n",
    "    * Game is controlled by the `run_game()` method.\r\n",
    "        * Contains a while loop that contains an event loop.\r\n",
    "\r\n",
    "### Setting the Background Color\r\n",
    "\r\n",
    "* Pygame creates a black background by default. Change with `self.bg_color = (rrr, ggg, bbb)`\r\n",
    "* All colors in pygame are RGB (0-255)\r\n",
    "\r\n",
    "### Creating a Settings Class\r\n",
    "\r\n",
    "* created an extra module `settings.py`\r\n",
    "\r\n",
    "### Creating the Ship class\r\n",
    "\r\n",
    "* Created an extra module `ship.py` for holding the properties of the player's ship\r\n",
    "* PyGame treats all objects as rectangles. They can be manipulated using x and y coordinates from the top, bottom, left, and right edges as well as the center to place.\r\n",
    "* Origin is at (0,0)"
   ]
  },
  {
   "cell_type": "markdown",
   "metadata": {},
   "source": []
  }
 ],
 "metadata": {
  "kernelspec": {
   "display_name": "Python 3.9.2 64-bit ('.venv')",
   "metadata": {
    "interpreter": {
     "hash": "ac5c073bd83283de4cf5750d55c354c3b877ecc9add5680c631bd48a436d782a"
    }
   },
   "name": "python3"
  },
  "language_info": {
   "name": "python",
   "nbconvert_exporter": "python",
   "version": "3.9.2-final"
  },
  "orig_nbformat": 2
 },
 "nbformat": 4,
 "nbformat_minor": 2
}