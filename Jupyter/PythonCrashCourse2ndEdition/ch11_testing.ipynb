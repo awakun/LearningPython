{
 "cells": [
  {
   "cell_type": "markdown",
   "metadata": {},
   "source": [
    "# Testing Code\r\n",
    "\r\n",
    "* This covers `unittest`. Since I already know I'll be mostly working with `pytest` I'm going to zoom through this chapter.\r\n",
    "\r\n",
    "## Code to test"
   ]
  },
  {
   "cell_type": "code",
   "execution_count": 5,
   "metadata": {},
   "outputs": [
    {
     "name": "stdout",
     "output_type": "stream",
     "text": [
      "Enter 'q' at any time to quit.\n",
      "Janis Joplin\n"
     ]
    }
   ],
   "source": [
    "def get_formatted_name(first, last):\r\n",
    "    \"\"\"This function outputs the full formatted name of a person. (English style)\"\"\"\r\n",
    "    full_name = f\"{first} {last}\"\r\n",
    "    return full_name.title()\r\n",
    "\r\n",
    "print(\"Enter 'q' at any time to quit.\")\r\n",
    "while True:\r\n",
    "    first = input(\"\\nPlease enter a first name: \")\r\n",
    "    if first == 'q':\r\n",
    "        break\r\n",
    "    last = input(\"Please enter a last name: \")\r\n",
    "    if last == 'q':\r\n",
    "        break\r\n",
    "    formatted_name = get_formatted_name(first, last)\r\n",
    "    print(formatted_name)"
   ]
  },
  {
   "cell_type": "markdown",
   "metadata": {},
   "source": [
    "## A passing test\r\n",
    "\r\n",
    "* Validate that `get_formatted_name()` works correctly when given a first and last name:"
   ]
  },
  {
   "cell_type": "code",
   "execution_count": 8,
   "metadata": {},
   "outputs": [
    {
     "name": "stderr",
     "output_type": "stream",
     "text": [
      "test_first_last_name (__main__.NamesTestCase)\n",
      "Do names like 'Janis Joplin' work? ... ok\n",
      "\n",
      "----------------------------------------------------------------------\n",
      "Ran 1 test in 0.002s\n",
      "\n",
      "OK\n"
     ]
    },
    {
     "data": {
      "text/plain": "<unittest.main.TestProgram at 0x1d68d6d71c0>"
     },
     "execution_count": 8,
     "metadata": {},
     "output_type": "execute_result"
    }
   ],
   "source": [
    "import unittest\r\n",
    "\r\n",
    "class NamesTestCase(unittest.TestCase):\r\n",
    "    \"\"\"Tests get_formatted_name()\"\"\"\r\n",
    "    def test_first_last_name(self):\r\n",
    "        \"\"\"Do names like 'Janis Joplin' work?\"\"\"\r\n",
    "\r\n",
    "        formatted_name = get_formatted_name('janis', 'joplin')\r\n",
    "        self.assertEqual(formatted_name, 'Janis Joplin')\r\n",
    "\r\n",
    "unittest.main(argv=[''], verbosity=3, exit=False)"
   ]
  },
  {
   "cell_type": "markdown",
   "metadata": {},
   "source": [
    "## A Failing Test\r\n",
    "\r\n",
    "* This is what a failing test looks like:"
   ]
  },
  {
   "cell_type": "code",
   "execution_count": 9,
   "metadata": {},
   "outputs": [
    {
     "name": "stderr",
     "output_type": "stream",
     "text": [
      "test_first_last_name (__main__.NamesTestCase)\n",
      "Do names like 'Janis Joplin' work? ... ERROR\n",
      "\n",
      "======================================================================\n",
      "ERROR: test_first_last_name (__main__.NamesTestCase)\n",
      "Do names like 'Janis Joplin' work?\n",
      "----------------------------------------------------------------------\n",
      "Traceback (most recent call last):\n",
      "  File \"<ipython-input-8-25801aececdd>\", line 8, in test_first_last_name\n",
      "    formatted_name = get_formatted_name('janis', 'joplin')\n",
      "TypeError: get_formatted_name() missing 1 required positional argument: 'last'\n",
      "\n",
      "----------------------------------------------------------------------\n",
      "Ran 1 test in 0.002s\n",
      "\n",
      "FAILED (errors=1)\n"
     ]
    },
    {
     "data": {
      "text/plain": "<unittest.main.TestProgram at 0x1d68d085b50>"
     },
     "execution_count": 9,
     "metadata": {},
     "output_type": "execute_result"
    }
   ],
   "source": [
    "# Redeclaring the function with a middle name parameter\r\n",
    "def get_formatted_name(first, middle, last):\r\n",
    "    \"\"\"Returns a formatted name including middle name.\"\"\"\r\n",
    "    full_name = f\"{first} {middle} {last}\"\r\n",
    "    return full_name.title()\r\n",
    "\r\n",
    "# Run our test again\r\n",
    "unittest.main(argv=[''], verbosity=3, exit=False)"
   ]
  },
  {
   "cell_type": "markdown",
   "metadata": {},
   "source": [
    "## Variety of Assert Methods\r\n",
    "\r\n",
    "* Some commonly used assertion methods:\r\n",
    "\r\n",
    "|Method|Use|\r\n",
    "|---|---|\r\n",
    "|assertEqual(a,b)|Verify that a == b|\r\n",
    "|assertNotEqual(a,b)|Verify that a != b|\r\n",
    "|assertTrue(x)|Verify that x is true|\r\n",
    "|assertFalse(x)|Verify that x is false|\r\n",
    "|assertIn(item, list)|Verify that `item` is in `list`|\r\n",
    "|assertNotIn(item, list)|Verify that `item` is not in `list`|"
   ]
  },
  {
   "cell_type": "markdown",
   "metadata": {},
   "source": [
    "* `setUp()` is basically BeforeAll"
   ]
  }
 ],
 "metadata": {
  "kernelspec": {
   "display_name": "Python 3.9.2 64-bit ('.venv')",
   "metadata": {
    "interpreter": {
     "hash": "ac5c073bd83283de4cf5750d55c354c3b877ecc9add5680c631bd48a436d782a"
    }
   },
   "name": "python3"
  },
  "language_info": {
   "codemirror_mode": {
    "name": "ipython",
    "version": 3
   },
   "file_extension": ".py",
   "mimetype": "text/x-python",
   "name": "python",
   "nbconvert_exporter": "python",
   "pygments_lexer": "ipython3",
   "version": "3.9.2"
  },
  "orig_nbformat": 2
 },
 "nbformat": 4,
 "nbformat_minor": 2
}