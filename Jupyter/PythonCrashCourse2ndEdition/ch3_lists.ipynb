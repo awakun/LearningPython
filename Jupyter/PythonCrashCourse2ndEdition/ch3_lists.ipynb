{
 "cells": [
  {
   "cell_type": "markdown",
   "metadata": {},
   "source": [
    "# Lists\r\n",
    "\r\n",
    "## What is a List?\r\n",
    "\r\n",
    "* A collection of items in a particular order\r\n",
    "* Usually a good idea to make the name plural (*departure from PowerShell norm!*)\r\n",
    "* Square brackets `[]` indicate a list\r\n",
    "* Elements are separated by comments"
   ]
  },
  {
   "cell_type": "code",
   "execution_count": 1,
   "metadata": {},
   "outputs": [
    {
     "name": "stdout",
     "output_type": "stream",
     "text": [
      "['trek', 'cannondale', 'redline', 'specialized']\n"
     ]
    }
   ],
   "source": [
    "bicycles = ['trek', 'cannondale', 'redline', 'specialized']\r\n",
    "print(bicycles)"
   ]
  },
  {
   "cell_type": "markdown",
   "metadata": {},
   "source": [
    "## Accessing Elements in a List\r\n",
    "\r\n",
    "* Access by index\r\n",
    "* Index goes in `[]`\r\n",
    "* Like most languages, index starts at 0, not 1.\r\n",
    "* The `-1` index returns the last element of a list"
   ]
  },
  {
   "cell_type": "code",
   "execution_count": 5,
   "metadata": {},
   "outputs": [
    {
     "name": "stdout",
     "output_type": "stream",
     "text": [
      "trek\n"
     ]
    }
   ],
   "source": [
    "print(bicycles[0])"
   ]
  },
  {
   "cell_type": "code",
   "execution_count": 8,
   "metadata": {},
   "outputs": [
    {
     "name": "stdout",
     "output_type": "stream",
     "text": [
      "My first bicycle was a Trek\n"
     ]
    }
   ],
   "source": [
    "message = f\"My first bicycle was a {bicycles[0].title()}\"\r\n",
    "print(message)"
   ]
  },
  {
   "cell_type": "markdown",
   "metadata": {},
   "source": [
    "## Changing, Adding, and Removing Elements\r\n",
    "\r\n",
    "* To modify a list element, index `[]` to the element and assign (`=`) a new value"
   ]
  },
  {
   "cell_type": "code",
   "execution_count": 9,
   "metadata": {},
   "outputs": [
    {
     "name": "stdout",
     "output_type": "stream",
     "text": [
      "['burton', 'libtech', 'gnu']\n",
      "['burton', 'libtech', 'arbor']\n"
     ]
    }
   ],
   "source": [
    "snowboards = ['burton', 'libtech', 'gnu']\r\n",
    "print(snowboards)\r\n",
    "snowboards[2] = 'arbor'\r\n",
    "print(snowboards)"
   ]
  },
  {
   "cell_type": "markdown",
   "metadata": {},
   "source": [
    "* Adding an element to a list with the `append()` method."
   ]
  },
  {
   "cell_type": "code",
   "execution_count": 10,
   "metadata": {},
   "outputs": [
    {
     "name": "stdout",
     "output_type": "stream",
     "text": [
      "['burton', 'libtech', 'arbor', 'gnu']\n"
     ]
    }
   ],
   "source": [
    "snowboards.append('gnu')\r\n",
    "print(snowboards)"
   ]
  },
  {
   "cell_type": "markdown",
   "metadata": {},
   "source": [
    "* Insert an element into a list with `insert(index, new_element)`:"
   ]
  },
  {
   "cell_type": "code",
   "execution_count": 11,
   "metadata": {},
   "outputs": [
    {
     "name": "stdout",
     "output_type": "stream",
     "text": [
      "['burton', 'K2', 'libtech', 'arbor', 'gnu']\n"
     ]
    }
   ],
   "source": [
    "snowboards.insert(1, 'K2')\r\n",
    "print(snowboards)"
   ]
  },
  {
   "cell_type": "markdown",
   "metadata": {},
   "source": [
    "* Remove elements from a list with `del` if you know the position:"
   ]
  },
  {
   "cell_type": "code",
   "execution_count": 12,
   "metadata": {},
   "outputs": [
    {
     "name": "stdout",
     "output_type": "stream",
     "text": [
      "['burton', 'libtech', 'arbor', 'gnu']\n"
     ]
    }
   ],
   "source": [
    "del snowboards[1]\r\n",
    "print(snowboards)"
   ]
  },
  {
   "cell_type": "markdown",
   "metadata": {},
   "source": [
    "* Remove the last item in a list (and continue working with it) with the `pop()` method:"
   ]
  },
  {
   "cell_type": "code",
   "execution_count": 14,
   "metadata": {},
   "outputs": [
    {
     "name": "stdout",
     "output_type": "stream",
     "text": [
      "['burton', 'libtech', 'arbor']\n",
      "gnu\n"
     ]
    }
   ],
   "source": [
    "popped_snowboard = snowboards.pop()\r\n",
    "print(snowboards)\r\n",
    "print(popped_snowboard)"
   ]
  },
  {
   "cell_type": "markdown",
   "metadata": {},
   "source": [
    "* `pop()` also accepts an index as an argument:"
   ]
  },
  {
   "cell_type": "code",
   "execution_count": 15,
   "metadata": {},
   "outputs": [
    {
     "name": "stdout",
     "output_type": "stream",
     "text": [
      "libtech\n"
     ]
    }
   ],
   "source": [
    "popped_second_snowboard = snowboards.pop(1)\r\n",
    "print(popped_second_snowboard)"
   ]
  },
  {
   "cell_type": "markdown",
   "metadata": {},
   "source": [
    "* Remove an item by value with the `remove()` method:\r\n",
    "    * *NOTE: only removes the first match*"
   ]
  },
  {
   "cell_type": "code",
   "execution_count": 16,
   "metadata": {},
   "outputs": [
    {
     "name": "stdout",
     "output_type": "stream",
     "text": [
      "['burton', 'libtech', 'arbor', 'gnu']\n",
      "['libtech', 'arbor', 'gnu']\n"
     ]
    }
   ],
   "source": [
    "snowboards = ['burton', 'libtech', 'arbor', 'gnu']\r\n",
    "print(snowboards)\r\n",
    "snowboards.remove('burton')\r\n",
    "print(snowboards)"
   ]
  },
  {
   "cell_type": "markdown",
   "metadata": {},
   "source": [
    "## Organizing a list\r\n",
    "\r\n",
    "* Sort a list with `sort()`\r\n",
    "    * Changes the list permanently\r\n",
    "    * Reverse sort by passing `sort(reverse=True)`\r\n",
    "* *NOTE: sorting a list may not sort in expected ways if there is a combination of lower case and upper case elements.*"
   ]
  },
  {
   "cell_type": "code",
   "execution_count": 17,
   "metadata": {},
   "outputs": [
    {
     "name": "stdout",
     "output_type": "stream",
     "text": [
      "['arbor', 'burton', 'gnu', 'libtech']\n",
      "['libtech', 'gnu', 'burton', 'arbor']\n"
     ]
    }
   ],
   "source": [
    "snowboards = ['burton', 'libtech', 'arbor', 'gnu']\r\n",
    "snowboards.sort()\r\n",
    "print(snowboards)\r\n",
    "snowboards.sort(reverse=True)\r\n",
    "print(snowboards)"
   ]
  },
  {
   "cell_type": "markdown",
   "metadata": {},
   "source": [
    "* To sort a list for a single use, use `sorted()`:"
   ]
  },
  {
   "cell_type": "code",
   "execution_count": 20,
   "metadata": {},
   "outputs": [
    {
     "name": "stdout",
     "output_type": "stream",
     "text": [
      "Here is the original list:\n",
      "['libtech', 'gnu', 'burton', 'arbor']\n",
      "Here is the sorted list:\n",
      "['arbor', 'burton', 'gnu', 'libtech']\n",
      "Here is the original list again:\n",
      "['libtech', 'gnu', 'burton', 'arbor']\n"
     ]
    }
   ],
   "source": [
    "print('Here is the original list:')\r\n",
    "print(snowboards)\r\n",
    "print('Here is the sorted list:')\r\n",
    "print(sorted(snowboards))\r\n",
    "print('Here is the original list again:')\r\n",
    "print(snowboards)"
   ]
  },
  {
   "cell_type": "markdown",
   "metadata": {},
   "source": [
    "* Reverse order of list with `reverse()`\r\n",
    "    * Also changes the list permanently (but can be reversed by applying it again.)\r\n",
    "    * Does not sort list, just reverses it"
   ]
  },
  {
   "cell_type": "code",
   "execution_count": 22,
   "metadata": {},
   "outputs": [
    {
     "name": "stdout",
     "output_type": "stream",
     "text": [
      "['arbor', 'burton', 'gnu', 'libtech']\n",
      "['libtech', 'gnu', 'burton', 'arbor']\n"
     ]
    }
   ],
   "source": [
    "print(snowboards)\r\n",
    "snowboards.reverse()\r\n",
    "print(snowboards)"
   ]
  },
  {
   "cell_type": "markdown",
   "metadata": {},
   "source": [
    "* Find the length of a list with `len()`\r\n",
    "    * *`len()` starts at 1 not 0*"
   ]
  },
  {
   "cell_type": "code",
   "execution_count": 23,
   "metadata": {},
   "outputs": [
    {
     "data": {
      "text/plain": "4"
     },
     "execution_count": 23,
     "metadata": {},
     "output_type": "execute_result"
    }
   ],
   "source": [
    "len(snowboards)"
   ]
  },
  {
   "cell_type": "markdown",
   "metadata": {},
   "source": [
    "## Avoiding Index Errors When Working With Lists\r\n",
    "\r\n",
    "* Accessing an element that doesn't exist (e.g. the 4th index (`[4]`) of a list containing 4 items) will result in an `index out of range` error\r\n",
    "* Remember that `[-1]` will always return the last item even if the list has changed size, however that will throw an `index out of range` error if the list is empty."
   ]
  },
  {
   "cell_type": "code",
   "execution_count": 24,
   "metadata": {},
   "outputs": [
    {
     "ename": "IndexError",
     "evalue": "list index out of range",
     "output_type": "error",
     "traceback": [
      "\u001b[1;31m---------------------------------------------------------------------------\u001b[0m",
      "\u001b[1;31mIndexError\u001b[0m                                Traceback (most recent call last)",
      "\u001b[1;32m<ipython-input-24-6198a8d30b65>\u001b[0m in \u001b[0;36m<module>\u001b[1;34m\u001b[0m\n\u001b[1;32m----> 1\u001b[1;33m \u001b[0msnowboards\u001b[0m\u001b[1;33m[\u001b[0m\u001b[1;36m7\u001b[0m\u001b[1;33m]\u001b[0m\u001b[1;33m\u001b[0m\u001b[1;33m\u001b[0m\u001b[0m\n\u001b[0m",
      "\u001b[1;31mIndexError\u001b[0m: list index out of range"
     ]
    }
   ],
   "source": [
    "snowboards[7]"
   ]
  },
  {
   "cell_type": "code",
   "execution_count": 25,
   "metadata": {},
   "outputs": [
    {
     "ename": "IndexError",
     "evalue": "list index out of range",
     "output_type": "error",
     "traceback": [
      "\u001b[1;31m---------------------------------------------------------------------------\u001b[0m",
      "\u001b[1;31mIndexError\u001b[0m                                Traceback (most recent call last)",
      "\u001b[1;32m<ipython-input-25-0da26ff20d0f>\u001b[0m in \u001b[0;36m<module>\u001b[1;34m\u001b[0m\n\u001b[0;32m      1\u001b[0m \u001b[0mempty_list\u001b[0m \u001b[1;33m=\u001b[0m \u001b[1;33m[\u001b[0m\u001b[1;33m]\u001b[0m\u001b[1;33m\u001b[0m\u001b[1;33m\u001b[0m\u001b[0m\n\u001b[1;32m----> 2\u001b[1;33m \u001b[0mempty_list\u001b[0m\u001b[1;33m[\u001b[0m\u001b[1;33m-\u001b[0m\u001b[1;36m1\u001b[0m\u001b[1;33m]\u001b[0m\u001b[1;33m\u001b[0m\u001b[1;33m\u001b[0m\u001b[0m\n\u001b[0m",
      "\u001b[1;31mIndexError\u001b[0m: list index out of range"
     ]
    }
   ],
   "source": [
    "empty_list = []\r\n",
    "empty_list[-1]"
   ]
  }
 ],
 "metadata": {
  "kernelspec": {
   "display_name": "Python 3",
   "language": "python",
   "name": "python3"
  },
  "language_info": {
   "codemirror_mode": {
    "name": "ipython",
    "version": 3
   },
   "file_extension": ".py",
   "mimetype": "text/x-python",
   "name": "python",
   "nbconvert_exporter": "python",
   "pygments_lexer": "ipython3",
   "version": "3.9.1"
  },
  "orig_nbformat": 2
 },
 "nbformat": 4,
 "nbformat_minor": 2
}