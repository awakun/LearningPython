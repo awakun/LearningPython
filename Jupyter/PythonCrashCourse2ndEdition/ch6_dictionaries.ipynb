{
 "cells": [
  {
   "cell_type": "markdown",
   "metadata": {},
   "source": [
    "# Dictionaries\r\n",
    "\r\n",
    "## Working with Dictionaries\r\n",
    "\r\n",
    "* A collection of key-value pairs where each key is connected to a value.\r\n",
    "* Any object you can create in Python can be used as a value in a dictionary.\r\n",
    "* Defined with `{}` using `:` to match keys with values and `,` separates pairs:"
   ]
  },
  {
   "cell_type": "code",
   "execution_count": 2,
   "metadata": {},
   "outputs": [
    {
     "name": "stdout",
     "output_type": "stream",
     "text": [
      "{'color': 'green', 'points': 5}\n"
     ]
    }
   ],
   "source": [
    "alien_0 = {'color': 'green', 'points': 5}\r\n",
    "print(alien_0)"
   ]
  },
  {
   "cell_type": "markdown",
   "metadata": {},
   "source": [
    "## Accessing Values in a Dictionary\r\n",
    "\r\n",
    "* Access a value by indexing to its key (only if key exists!):"
   ]
  },
  {
   "cell_type": "code",
   "execution_count": 3,
   "metadata": {},
   "outputs": [
    {
     "name": "stdout",
     "output_type": "stream",
     "text": [
      "green\n"
     ]
    }
   ],
   "source": [
    "print(alien_0['color'])"
   ]
  },
  {
   "cell_type": "code",
   "execution_count": 9,
   "metadata": {},
   "outputs": [
    {
     "ename": "KeyError",
     "evalue": "'origin'",
     "output_type": "error",
     "traceback": [
      "\u001b[1;31m---------------------------------------------------------------------------\u001b[0m",
      "\u001b[1;31mKeyError\u001b[0m                                  Traceback (most recent call last)",
      "\u001b[1;32m<ipython-input-9-f0c769d9a01b>\u001b[0m in \u001b[0;36m<module>\u001b[1;34m\u001b[0m\n\u001b[0;32m      1\u001b[0m \u001b[1;31m# Error\u001b[0m\u001b[1;33m\u001b[0m\u001b[1;33m\u001b[0m\u001b[1;33m\u001b[0m\u001b[0m\n\u001b[1;32m----> 2\u001b[1;33m \u001b[0mprint\u001b[0m\u001b[1;33m(\u001b[0m\u001b[0malien_0\u001b[0m\u001b[1;33m[\u001b[0m\u001b[1;34m'origin'\u001b[0m\u001b[1;33m]\u001b[0m\u001b[1;33m)\u001b[0m\u001b[1;33m\u001b[0m\u001b[1;33m\u001b[0m\u001b[0m\n\u001b[0m",
      "\u001b[1;31mKeyError\u001b[0m: 'origin'"
     ]
    }
   ],
   "source": [
    "# Error\r\n",
    "print(alien_0['origin'])"
   ]
  },
  {
   "cell_type": "markdown",
   "metadata": {},
   "source": [
    "* Can also use `get()` with the key as an argument, will return `None` if the key doesn't exist:"
   ]
  },
  {
   "cell_type": "code",
   "execution_count": 11,
   "metadata": {},
   "outputs": [
    {
     "name": "stdout",
     "output_type": "stream",
     "text": [
      "None\n"
     ]
    }
   ],
   "source": [
    "print(alien_0.get('origin'))"
   ]
  },
  {
   "cell_type": "markdown",
   "metadata": {},
   "source": [
    "* `get()` also accepts a second argument, which if provided, will be returned if the key provided as the first argument does not exist:"
   ]
  },
  {
   "cell_type": "code",
   "execution_count": 10,
   "metadata": {},
   "outputs": [
    {
     "name": "stdout",
     "output_type": "stream",
     "text": [
      "This alien has no origin!\n"
     ]
    }
   ],
   "source": [
    "print(alien_0.get('origin','This alien has no origin!'))"
   ]
  },
  {
   "cell_type": "markdown",
   "metadata": {},
   "source": [
    "* Can add to a dictionary by indexing to a new key and assigning it a value:"
   ]
  },
  {
   "cell_type": "code",
   "execution_count": 5,
   "metadata": {},
   "outputs": [
    {
     "name": "stdout",
     "output_type": "stream",
     "text": [
      "{'color': 'green', 'points': 5, 'x_position': 0, 'y_position': 25}\n"
     ]
    }
   ],
   "source": [
    "alien_0['x_position'] = 0\r\n",
    "alien_0['y_position'] = 25\r\n",
    "print(alien_0)"
   ]
  },
  {
   "cell_type": "markdown",
   "metadata": {},
   "source": [
    "* Same to modify a value:"
   ]
  },
  {
   "cell_type": "code",
   "execution_count": 6,
   "metadata": {},
   "outputs": [
    {
     "name": "stdout",
     "output_type": "stream",
     "text": [
      "{'color': 'green', 'points': 5, 'x_position': 5, 'y_position': 25}\n"
     ]
    }
   ],
   "source": [
    "alien_0['x_position'] = 5\r\n",
    "print(alien_0)"
   ]
  },
  {
   "cell_type": "markdown",
   "metadata": {},
   "source": [
    "* Remove a key-value pair with `del`:"
   ]
  },
  {
   "cell_type": "code",
   "execution_count": 7,
   "metadata": {},
   "outputs": [
    {
     "name": "stdout",
     "output_type": "stream",
     "text": [
      "{'color': 'green', 'x_position': 5, 'y_position': 25}\n"
     ]
    }
   ],
   "source": [
    "del alien_0['points']\r\n",
    "print(alien_0)"
   ]
  },
  {
   "cell_type": "markdown",
   "metadata": {},
   "source": [
    "## Style\r\n",
    "\r\n",
    "* Multiline dictionaries:\r\n",
    "    * Are created with the opening bracket on the first line\r\n",
    "    * Have key-value pairs each on their own line and indented 1 level\r\n",
    "    * Closing bracket is at the same indent level.\r\n",
    "    * Include a comma after the last key-value pair too\r\n",
    "\r\n",
    "```python\r\n",
    "favorite_languages = {\r\n",
    "    'jen': 'python',\r\n",
    "    'sarah': 'c',\r\n",
    "    'edward': 'ruby',\r\n",
    "    'phil': 'python',\r\n",
    "    }\r\n",
    "\r\n",
    "# Matthes, Eric. Python Crash Course, 2nd Edition (p. 97). No Starch Press. Kindle Edition. \r\n",
    "```\r\n",
    "\r\n",
    "## Looping Through a Dictionary\r\n",
    "\r\n",
    "* Can loop through key-value pairs, keys, or values\r\n",
    "* To loop through key-value pairs, use `items()` which creates a list of key-value pairs and assign 2 variables to iterate:"
   ]
  },
  {
   "cell_type": "code",
   "execution_count": 15,
   "metadata": {},
   "outputs": [
    {
     "name": "stdout",
     "output_type": "stream",
     "text": [
      "\n",
      "Key: username\n",
      "Value: dkong\n",
      "\n",
      "Key: first\n",
      "Value: donkey\n",
      "\n",
      "Key: last\n",
      "Value: kong\n"
     ]
    }
   ],
   "source": [
    "user_0 = {\r\n",
    "    'username': 'dkong',\r\n",
    "    'first': 'donkey',\r\n",
    "    'last': 'kong',\r\n",
    "    }\r\n",
    "\r\n",
    "for key, value in user_0.items():\r\n",
    "    print(f\"\\nKey: {key}\")\r\n",
    "    print(f\"Value: {value}\")"
   ]
  },
  {
   "cell_type": "markdown",
   "metadata": {},
   "source": [
    "* To loop through the keys of a dictionary, use `keys()`:"
   ]
  },
  {
   "cell_type": "code",
   "execution_count": 16,
   "metadata": {},
   "outputs": [
    {
     "name": "stdout",
     "output_type": "stream",
     "text": [
      "username\n",
      "first\n",
      "last\n"
     ]
    }
   ],
   "source": [
    "for key in user_0.keys():\r\n",
    "    print(key)"
   ]
  },
  {
   "cell_type": "markdown",
   "metadata": {},
   "source": [
    "* OR, simply loop through the dictionary like it were a list, as looping through the keys is the default behavior in Python:"
   ]
  },
  {
   "cell_type": "code",
   "execution_count": 17,
   "metadata": {},
   "outputs": [
    {
     "name": "stdout",
     "output_type": "stream",
     "text": [
      "username\n",
      "first\n",
      "last\n"
     ]
    }
   ],
   "source": [
    "for key in user_0:\r\n",
    "    print(key)"
   ]
  },
  {
   "cell_type": "markdown",
   "metadata": {},
   "source": [
    "* To loop through values, use the `values()` method:"
   ]
  },
  {
   "cell_type": "code",
   "execution_count": 18,
   "metadata": {},
   "outputs": [
    {
     "name": "stdout",
     "output_type": "stream",
     "text": [
      "dkong\n",
      "donkey\n",
      "kong\n"
     ]
    }
   ],
   "source": [
    "for value in user_0.values():\r\n",
    "    print(value)"
   ]
  },
  {
   "cell_type": "markdown",
   "metadata": {},
   "source": [
    "## Sets\r\n",
    "\r\n",
    "* Sets are collections where the elements must be unique\r\n",
    "* Can use `set()` to return a copy of a list without duplicates\r\n",
    "* No specific order."
   ]
  },
  {
   "cell_type": "code",
   "execution_count": 19,
   "metadata": {},
   "outputs": [
    {
     "name": "stdout",
     "output_type": "stream",
     "text": [
      "{'ruby', 'c', 'python'}\n"
     ]
    }
   ],
   "source": [
    "languages = {'python', 'ruby', 'python', 'c'}\r\n",
    "print(set(languages))"
   ]
  },
  {
   "cell_type": "code",
   "execution_count": null,
   "metadata": {},
   "outputs": [],
   "source": []
  }
 ],
 "metadata": {
  "kernelspec": {
   "display_name": "Python 3",
   "language": "python",
   "name": "python3"
  },
  "language_info": {
   "codemirror_mode": {
    "name": "ipython",
    "version": 3
   },
   "file_extension": ".py",
   "mimetype": "text/x-python",
   "name": "python",
   "nbconvert_exporter": "python",
   "pygments_lexer": "ipython3",
   "version": "3.9.1"
  },
  "orig_nbformat": 2
 },
 "nbformat": 4,
 "nbformat_minor": 2
}