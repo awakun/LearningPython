{
 "cells": [
  {
   "cell_type": "markdown",
   "metadata": {},
   "source": [
    "# Functions\r\n",
    "\r\n",
    "(Finally!)\r\n",
    "\r\n",
    "## Defining a Function\r\n",
    "\r\n",
    "* Functions in python start with the keyword `def`\r\n",
    "* Docstrings are used to document functions and are enclosed in triple quotes `\"\"\"`\r\n",
    "* Like ifs and loops, any indented lines following the function definition are part of the function\r\n",
    "* Parenthesis are required after function names, even if no arguments are provided"
   ]
  },
  {
   "cell_type": "code",
   "execution_count": 3,
   "metadata": {},
   "outputs": [
    {
     "name": "stdout",
     "output_type": "stream",
     "text": [
      "Hi dave!\n"
     ]
    }
   ],
   "source": [
    "def greeting():\r\n",
    "    \"\"\"greet someone\"\"\"\r\n",
    "    name = input(\"Please enter your name: \")\r\n",
    "    print(f\"Hi {name}!\")\r\n",
    "greeting()"
   ]
  },
  {
   "cell_type": "markdown",
   "metadata": {},
   "source": [
    "## Passing Arguments\r\n",
    "\r\n",
    "* Python accepts positional arguments, slotting argument into parameters in the order provided:"
   ]
  },
  {
   "cell_type": "code",
   "execution_count": 2,
   "metadata": {},
   "outputs": [
    {
     "name": "stdout",
     "output_type": "stream",
     "text": [
      "I have a dog.\n",
      "My dog's name is Fido\n"
     ]
    }
   ],
   "source": [
    "def describe_pet(animal_type, pet_name):\r\n",
    "    \"\"\"Display information about a pet\"\"\"\r\n",
    "    print(f\"I have a {animal_type}.\")\r\n",
    "    print(f\"My {animal_type}'s name is {pet_name}\")\r\n",
    "describe_pet('dog', 'Fido')"
   ]
  },
  {
   "cell_type": "markdown",
   "metadata": {},
   "source": [
    "* Python also allows you to specify argument/parameter names using keyword arguments."
   ]
  },
  {
   "cell_type": "code",
   "execution_count": 4,
   "metadata": {},
   "outputs": [
    {
     "name": "stdout",
     "output_type": "stream",
     "text": [
      "I have a hamster.\n",
      "My hamster's name is Harry\n"
     ]
    }
   ],
   "source": [
    "describe_pet(animal_type='hamster', pet_name='Harry')"
   ]
  },
  {
   "cell_type": "markdown",
   "metadata": {},
   "source": [
    "* Default values can be assigned to parameters\r\n",
    "* *NOTE: Parameters with default values must come after parameters without a default value set if there is a mix.*"
   ]
  },
  {
   "cell_type": "code",
   "execution_count": 7,
   "metadata": {},
   "outputs": [
    {
     "name": "stdout",
     "output_type": "stream",
     "text": [
      "I have a dog\n",
      "My dog's name is Goofy\n"
     ]
    }
   ],
   "source": [
    "def describe_pet(pet_name, animal_type='dog'):\r\n",
    "    \"\"\"Display information about a pet.\"\"\"\r\n",
    "    print(f\"I have a {animal_type}\")\r\n",
    "    print(f\"My {animal_type}'s name is {pet_name}\")\r\n",
    "\r\n",
    "describe_pet(pet_name='Goofy')"
   ]
  },
  {
   "cell_type": "markdown",
   "metadata": {},
   "source": [
    "* Argument errors look like this:"
   ]
  },
  {
   "cell_type": "code",
   "execution_count": 8,
   "metadata": {},
   "outputs": [
    {
     "ename": "TypeError",
     "evalue": "describe_pet() missing 1 required positional argument: 'pet_name'",
     "output_type": "error",
     "traceback": [
      "\u001b[1;31m---------------------------------------------------------------------------\u001b[0m",
      "\u001b[1;31mTypeError\u001b[0m                                 Traceback (most recent call last)",
      "\u001b[1;32m<ipython-input-8-f95e5f55e3d1>\u001b[0m in \u001b[0;36m<module>\u001b[1;34m\u001b[0m\n\u001b[1;32m----> 1\u001b[1;33m \u001b[0mdescribe_pet\u001b[0m\u001b[1;33m(\u001b[0m\u001b[1;33m)\u001b[0m\u001b[1;33m\u001b[0m\u001b[1;33m\u001b[0m\u001b[0m\n\u001b[0m",
      "\u001b[1;31mTypeError\u001b[0m: describe_pet() missing 1 required positional argument: 'pet_name'"
     ]
    }
   ],
   "source": [
    "describe_pet()"
   ]
  },
  {
   "cell_type": "markdown",
   "metadata": {},
   "source": [
    "* To make an argument optional set it to a default value of an empty string:"
   ]
  },
  {
   "cell_type": "code",
   "execution_count": 17,
   "metadata": {},
   "outputs": [
    {
     "name": "stdout",
     "output_type": "stream",
     "text": [
      "Bob is a dog.\n",
      "John-Jacob Jingleheimer-Schmidt is a dog.\n"
     ]
    }
   ],
   "source": [
    "def describe_pet(pet_name, pet_last_name='', animal_type='dog'):\r\n",
    "    \"\"\"silly test function\"\"\"\r\n",
    "    print(f'{\" \".join([pet_name, pet_last_name]).strip()} is a {animal_type}.')\r\n",
    "\r\n",
    "describe_pet('Bob')\r\n",
    "describe_pet('John-Jacob', pet_last_name='Jingleheimer-Schmidt')"
   ]
  },
  {
   "cell_type": "markdown",
   "metadata": {},
   "source": [
    "## Return Values\r\n",
    "\r\n",
    "* `return` statement is used to explicitly set the object(s) to return. (Difference from PowerShell)"
   ]
  },
  {
   "cell_type": "code",
   "execution_count": 12,
   "metadata": {},
   "outputs": [
    {
     "data": {
      "text/plain": "'I_AM_A_SNAKE_SSSSSSSS'"
     },
     "execution_count": 12,
     "metadata": {},
     "output_type": "execute_result"
    }
   ],
   "source": [
    "def screaming_snake_case(string):\r\n",
    "    \"\"\"transform string with spaces into screaming snake case\"\"\"\r\n",
    "    return string.replace(\" \",\"_\").upper()\r\n",
    "\r\n",
    "screaming_snake_case('i am a snake ssssssss')"
   ]
  },
  {
   "cell_type": "markdown",
   "metadata": {},
   "source": [
    "* If you pass a list to a function, any modifications made inside the function will be permanently applied."
   ]
  },
  {
   "cell_type": "code",
   "execution_count": 19,
   "metadata": {},
   "outputs": [
    {
     "name": "stdout",
     "output_type": "stream",
     "text": [
      "gotye\n",
      "kimbra\n",
      "bob\n",
      "[]\n"
     ]
    }
   ],
   "source": [
    "def print_users(names):\r\n",
    "    \"\"\"do something to a list\"\"\"\r\n",
    "    while names:\r\n",
    "        name = names.pop()\r\n",
    "        print(name)\r\n",
    "\r\n",
    "names = ['bob', 'kimbra', 'gotye']\r\n",
    "print_users(names)\r\n",
    "print(names) # notice that the list is now empty"
   ]
  },
  {
   "cell_type": "markdown",
   "metadata": {},
   "source": [
    "* To prevent a function from modifying a list, send a copy of the list (described previously, use `list_name[:]`)"
   ]
  },
  {
   "cell_type": "code",
   "execution_count": 20,
   "metadata": {},
   "outputs": [
    {
     "name": "stdout",
     "output_type": "stream",
     "text": [
      "sergei\n",
      "jake\n",
      "ken\n",
      "['ken', 'jake', 'sergei']\n"
     ]
    }
   ],
   "source": [
    "names = ['ken', 'jake', 'sergei']\r\n",
    "\r\n",
    "print_users(names[:])\r\n",
    "print(names) # note that the original list is preserved this time"
   ]
  },
  {
   "cell_type": "markdown",
   "metadata": {},
   "source": [
    "* Python allows a function to accept an arbitrary number of arguments by adding `*` to the parameter:\r\n",
    "    * *NOTE: this creates a tuple*"
   ]
  },
  {
   "cell_type": "code",
   "execution_count": 24,
   "metadata": {},
   "outputs": [
    {
     "name": "stdout",
     "output_type": "stream",
     "text": [
      "('mushroom', 'black olives', 'banana peppers')\n"
     ]
    }
   ],
   "source": [
    "def make_pizza(*toppings):\r\n",
    "    \"\"\"describe a pizza\"\"\"\r\n",
    "    print(toppings)\r\n",
    "\r\n",
    "pizza('mushroom', 'black olives', 'banana peppers')"
   ]
  },
  {
   "cell_type": "markdown",
   "metadata": {},
   "source": [
    "* To mix positional and arbitrary arguments, put the positional arguments first:"
   ]
  },
  {
   "cell_type": "code",
   "execution_count": 1,
   "metadata": {},
   "outputs": [
    {
     "name": "stdout",
     "output_type": "stream",
     "text": [
      "{'size': 'large', 'toppings': ('bacon', 'pepperoni')}\n"
     ]
    }
   ],
   "source": [
    "def make_pizza(size, *toppings):\r\n",
    "    \"\"\"describe a pizza\"\"\"\r\n",
    "    pizza = {\r\n",
    "        'size':size,\r\n",
    "        'toppings':toppings,\r\n",
    "    }\r\n",
    "    return pizza\r\n",
    "\r\n",
    "print(make_pizza('large', 'bacon', 'pepperoni'))"
   ]
  },
  {
   "cell_type": "markdown",
   "metadata": {},
   "source": [
    "* Use `**` on a parameter to accept an arbitrary number of keyword arguments:"
   ]
  },
  {
   "cell_type": "code",
   "execution_count": 2,
   "metadata": {},
   "outputs": [
    {
     "name": "stdout",
     "output_type": "stream",
     "text": [
      "{'middle_name': 'Luther', 'suffix': 'Jr.', 'first_name': 'Martin', 'last_name': 'King'}\n"
     ]
    }
   ],
   "source": [
    "def build_profile(first, last, **user_info):\r\n",
    "    \"\"\"Build a dictionary containing everything we know about a user\"\"\"\r\n",
    "    user_info['first_name'] = first.title()\r\n",
    "    user_info['last_name'] = last.title()\r\n",
    "    return user_info\r\n",
    "\r\n",
    "user_profile = build_profile('Martin', 'King', middle_name='Luther', suffix='Jr.')\r\n",
    "print(user_profile)"
   ]
  },
  {
   "cell_type": "markdown",
   "metadata": {},
   "source": [
    "* **IMPORTANT: You'll often see the parameter name `**kwargs` used to collect non-specific keyword arguments.**\r\n",
    "\r\n",
    "## Storing Your Functions in Modules\r\n",
    "\r\n",
    "* You can store functions in a separate file called a module.\r\n",
    "* `import` statment tells Python to make code in a module available to the current running program.\r\n",
    "* Use `import` on the file name without the .py extension, e.g. `import module_name`\r\n",
    "* To import just specific function(s), use the syntax `from module_name import function_name`\r\n",
    "* To directly import all functions from a module (so you don't have to use the module prefix) use `from module_name import *` however it's not recommended as it can make code harder to read.\r\n",
    "\r\n",
    "## Aliases\r\n",
    "\r\n",
    "* If the name of a function you're importing might conflict with an existing name in your program, or if the function name is just too long, you can use an alias using `as`.\r\n",
    "    * e.g. `from pizza impore make_pizzas as mp`\r\n",
    "* You can also import a whole module with an alias.\r\n",
    "    * e.g. `import pizza as p`\r\n",
    "\r\n",
    "## Style\r\n",
    "\r\n",
    "* Function and module names should be descriptive\r\n",
    "* Function and module names should use lower case letters and underscores.\r\n",
    "* Every function should have a docstring, private functions only need a summary docstring, public functions should have a full docstring.\r\n",
    "* If assigning a default value to a parameter there should be no spaces around the parameter assignment `=`. (Same for keyword arguments in function calls.)\r\n",
    "* If you need to put parameters on their own lines because line length is too long, double tab the parameters like this:\r\n",
    "\r\n",
    "```python\r\n",
    "def function_name(\r\n",
    "        parameter_0, parameter_1, parameter_2,\r\n",
    "        parameter_3, parameter_4, parameter_5,):\r\n",
    "    <function_body>\r\n",
    "```\r\n",
    "\r\n",
    "* import statements should always be at the top of the file (only exception is if there are comments describing the program above them)\r\n",
    "* Separate functions by 2 lines of whitespace"
   ]
  },
  {
   "cell_type": "code",
   "execution_count": null,
   "metadata": {},
   "outputs": [],
   "source": []
  }
 ],
 "metadata": {
  "kernelspec": {
   "display_name": "Python 3",
   "language": "python",
   "name": "python3"
  },
  "language_info": {
   "codemirror_mode": {
    "name": "ipython",
    "version": 3
   },
   "file_extension": ".py",
   "mimetype": "text/x-python",
   "name": "python",
   "nbconvert_exporter": "python",
   "pygments_lexer": "ipython3",
   "version": "3.9.1"
  },
  "orig_nbformat": 2
 },
 "nbformat": 4,
 "nbformat_minor": 2
}