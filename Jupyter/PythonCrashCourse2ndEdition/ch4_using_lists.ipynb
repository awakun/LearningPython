{
 "cells": [
  {
   "cell_type": "markdown",
   "metadata": {},
   "source": [
    "# Working with Lists (Loops)\r\n",
    "\r\n",
    "## Looping Through an Entire List (foreach equiv)\r\n",
    "\r\n",
    "* Using `for` to loop through a list:"
   ]
  },
  {
   "cell_type": "code",
   "execution_count": 5,
   "metadata": {},
   "outputs": [
    {
     "name": "stdout",
     "output_type": "stream",
     "text": [
      "alice\n",
      "david\n",
      "caroline\n"
     ]
    }
   ],
   "source": [
    "magicians = ['alice', 'david', 'caroline']\r\n",
    "for magician in magicians:\r\n",
    "    print(magician)"
   ]
  },
  {
   "cell_type": "markdown",
   "metadata": {},
   "source": [
    "* Python naming convention is to use the singular form of the plural variable name. e.g. `for dog in dogs:`\r\n",
    "* Indented lines are inside the for loop\r\n",
    "* Un-indent to end and run a line outside the loop"
   ]
  },
  {
   "cell_type": "code",
   "execution_count": 6,
   "metadata": {},
   "outputs": [
    {
     "name": "stdout",
     "output_type": "stream",
     "text": [
      "Alice, that was a great show!\n",
      "I can't wait to see your next trick, Alice.\n",
      "\n",
      "David, that was a great show!\n",
      "I can't wait to see your next trick, David.\n",
      "\n",
      "Caroline, that was a great show!\n",
      "I can't wait to see your next trick, Caroline.\n",
      "\n",
      "Thank you everyone. That was a great magic show!\n"
     ]
    }
   ],
   "source": [
    "for magician in magicians:\r\n",
    "    print(f\"{magician.title()}, that was a great show!\")\r\n",
    "    print(f\"I can't wait to see your next trick, {magician.title()}.\\n\")\r\n",
    "print(\"Thank you everyone. That was a great magic show!\")"
   ]
  },
  {
   "cell_type": "markdown",
   "metadata": {},
   "source": [
    "## Avoiding Common Indentation Errors\r\n",
    "\r\n",
    "* One common error is forgetting to indent a line in a `for` loop.\r\n",
    "* However, you won't get an error if the line you forgot to indent follows an indented line."
   ]
  },
  {
   "cell_type": "code",
   "execution_count": 7,
   "metadata": {},
   "outputs": [
    {
     "ename": "IndentationError",
     "evalue": "expected an indented block (<ipython-input-7-219ea6d1e40b>, line 3)",
     "output_type": "error",
     "traceback": [
      "\u001b[1;36m  File \u001b[1;32m\"<ipython-input-7-219ea6d1e40b>\"\u001b[1;36m, line \u001b[1;32m3\u001b[0m\n\u001b[1;33m    print(magician)\u001b[0m\n\u001b[1;37m    ^\u001b[0m\n\u001b[1;31mIndentationError\u001b[0m\u001b[1;31m:\u001b[0m expected an indented block\n"
     ]
    }
   ],
   "source": [
    "magicians = ['alice', 'david', 'caroline']\r\n",
    "for magician in magicians:\r\n",
    "print(magician)"
   ]
  },
  {
   "cell_type": "code",
   "execution_count": 6,
   "metadata": {},
   "outputs": [
    {
     "name": "stdout",
     "output_type": "stream",
     "text": [
      "Alice, that was a great trick!\n",
      "David, that was a great trick!\n",
      "Caroline, that was a great trick!\n",
      "I can't wait to see your next trick, Caroline.\n",
      "\n"
     ]
    }
   ],
   "source": [
    "# No syntax error (this is a logical error)\r\n",
    "for magician in magicians:\r\n",
    "    print(f\"{magician.title()}, that was a great trick!\")\r\n",
    "print(f\"I can't wait to see your next trick, {magician.title()}.\\n\")"
   ]
  },
  {
   "cell_type": "markdown",
   "metadata": {},
   "source": [
    "* Accidentally indenting a line will also result in an error:"
   ]
  },
  {
   "cell_type": "code",
   "execution_count": 7,
   "metadata": {},
   "outputs": [
    {
     "ename": "IndentationError",
     "evalue": "unexpected indent (<ipython-input-7-d3e42733da9e>, line 2)",
     "output_type": "error",
     "traceback": [
      "\u001b[1;36m  File \u001b[1;32m\"<ipython-input-7-d3e42733da9e>\"\u001b[1;36m, line \u001b[1;32m2\u001b[0m\n\u001b[1;33m    print(message)\u001b[0m\n\u001b[1;37m    ^\u001b[0m\n\u001b[1;31mIndentationError\u001b[0m\u001b[1;31m:\u001b[0m unexpected indent\n"
     ]
    }
   ],
   "source": [
    "message = \"Hello world!\"\r\n",
    "    print(message)"
   ]
  },
  {
   "cell_type": "markdown",
   "metadata": {},
   "source": [
    "* Accidentally indenting code that should run after a loop has finished will include the line in the loop, resulting in a logic error, but not a syntax error (usually).\r\n",
    "* the `:` at the end of a for loop statement is required and an error will also be thrown if it is not included."
   ]
  },
  {
   "cell_type": "code",
   "execution_count": 8,
   "metadata": {},
   "outputs": [
    {
     "ename": "SyntaxError",
     "evalue": "invalid syntax (<ipython-input-8-cd51950898c6>, line 1)",
     "output_type": "error",
     "traceback": [
      "\u001b[1;36m  File \u001b[1;32m\"<ipython-input-8-cd51950898c6>\"\u001b[1;36m, line \u001b[1;32m1\u001b[0m\n\u001b[1;33m    for magician in magicians\u001b[0m\n\u001b[1;37m                             ^\u001b[0m\n\u001b[1;31mSyntaxError\u001b[0m\u001b[1;31m:\u001b[0m invalid syntax\n"
     ]
    }
   ],
   "source": [
    "for magician in magicians\r\n",
    "    print(magician)"
   ]
  },
  {
   "cell_type": "markdown",
   "metadata": {},
   "source": [
    "## Making Numerical Lists\r\n",
    "\r\n",
    "* Use `range()` to generate a series of numbers:\r\n",
    "    * *NOTE: this can be another source of off by one errors*\r\n",
    "    * Provide the start and end of range (note, end is not counted)\r\n"
   ]
  },
  {
   "cell_type": "code",
   "execution_count": 9,
   "metadata": {},
   "outputs": [
    {
     "name": "stdout",
     "output_type": "stream",
     "text": [
      "1\n",
      "2\n",
      "3\n",
      "4\n"
     ]
    }
   ],
   "source": [
    "for value in range(1, 5):\r\n",
    "    print(value)"
   ]
  },
  {
   "cell_type": "markdown",
   "metadata": {},
   "source": [
    "* `range()` with a single argument starts at 0:"
   ]
  },
  {
   "cell_type": "code",
   "execution_count": 11,
   "metadata": {},
   "outputs": [
    {
     "name": "stdout",
     "output_type": "stream",
     "text": [
      "0\n",
      "1\n",
      "2\n"
     ]
    }
   ],
   "source": [
    "for value in range(3):\r\n",
    "    print (value)"
   ]
  },
  {
   "cell_type": "markdown",
   "metadata": {},
   "source": [
    "* Can use `list()` to convert a range to a list for variable assignments:"
   ]
  },
  {
   "cell_type": "code",
   "execution_count": 12,
   "metadata": {},
   "outputs": [
    {
     "name": "stdout",
     "output_type": "stream",
     "text": [
      "[1, 2, 3]\n"
     ]
    }
   ],
   "source": [
    "values = list(range(1, 4))\r\n",
    "print(values)"
   ]
  },
  {
   "cell_type": "markdown",
   "metadata": {},
   "source": [
    "* `range()` will also accept a third argument to skip that number of steps between. For instance make a list with even numbers to 10 (inclusive):"
   ]
  },
  {
   "cell_type": "code",
   "execution_count": 14,
   "metadata": {},
   "outputs": [
    {
     "name": "stdout",
     "output_type": "stream",
     "text": [
      "[2, 4, 6, 8, 10]\n"
     ]
    }
   ],
   "source": [
    "# Start at 2 because range includes start of range\r\n",
    "# Go to 11 because end of range is not inclusive\r\n",
    "# Count every second one.\r\n",
    "even_numbers = list(range(2, 11, 2))\r\n",
    "print(even_numbers)"
   ]
  },
  {
   "cell_type": "code",
   "execution_count": 16,
   "metadata": {},
   "outputs": [
    {
     "name": "stdout",
     "output_type": "stream",
     "text": [
      "[1, 4, 9, 16, 25, 36, 49, 64, 81, 100]\n"
     ]
    }
   ],
   "source": [
    "# List all squares for 1-10\r\n",
    "squares = []\r\n",
    "for number in range(1, 11):\r\n",
    "    square = number ** 2\r\n",
    "    squares.append(square)\r\n",
    "print(squares)"
   ]
  },
  {
   "cell_type": "markdown",
   "metadata": {},
   "source": [
    "## Simple statistics with a List of Numbers\r\n",
    "\r\n",
    "* `min()` grabs the min from a set of numbers\r\n",
    "* `max()` and `sum()` also perform the same mathematical function on a set of numbers that you would expect."
   ]
  },
  {
   "cell_type": "code",
   "execution_count": 2,
   "metadata": {},
   "outputs": [
    {
     "name": "stdout",
     "output_type": "stream",
     "text": [
      "72\n",
      "0\n",
      "170\n"
     ]
    }
   ],
   "source": [
    "numbers = [1, 2, 3, 4, 5, 6, 7, 8, 9, 0, 72, 40, 13]\r\n",
    "print(max(numbers))\r\n",
    "print(min(numbers))\r\n",
    "print(sum(numbers))"
   ]
  },
  {
   "cell_type": "markdown",
   "metadata": {},
   "source": [
    "## List comprehensions\r\n",
    "\r\n",
    "* Comprehensions allow you to create a list combining the ability of a for loop and the creation of a list in one line.\r\n",
    "* Note, no `:` at end of line\r\n",
    "* Syntax is similar to normal list, but in the brackets you enter your for loop:"
   ]
  },
  {
   "cell_type": "code",
   "execution_count": 3,
   "metadata": {},
   "outputs": [
    {
     "name": "stdout",
     "output_type": "stream",
     "text": [
      "[1, 4, 9, 16, 25, 36, 49, 64, 81, 100]\n"
     ]
    }
   ],
   "source": [
    "squares = [value ** 2 for value in range(1, 11)]\r\n",
    "print(squares)"
   ]
  },
  {
   "cell_type": "code",
   "execution_count": 4,
   "metadata": {},
   "outputs": [
    {
     "name": "stdout",
     "output_type": "stream",
     "text": [
      "[0.5, 1.0, 1.5, 2.0, 2.5, 3.0, 3.5, 4.0, 4.5, 5.0]\n"
     ]
    }
   ],
   "source": [
    "# practicing another\r\n",
    "halves = [value / 2 for value in range(1, 11)]\r\n",
    "print(halves)"
   ]
  },
  {
   "cell_type": "markdown",
   "metadata": {},
   "source": [
    "## Working with a part of a list\r\n",
    "\r\n",
    "* To slice a list use `:` within the index brackets `[]` like this `[0:3]`.\r\n",
    "    * First number indicates first index\r\n",
    "    * Second number is the last index you to search up-to. Note, this is not inclusive.\r\n",
    "* If you omit the first number, python assumes beginning of list\r\n",
    "* Similarly, omitting the 2nd number will get you up to the end of the list."
   ]
  },
  {
   "cell_type": "code",
   "execution_count": 9,
   "metadata": {},
   "outputs": [
    {
     "name": "stdout",
     "output_type": "stream",
     "text": [
      "['list', 'of', 'some']\n",
      "['list', 'of', 'some']\n",
      "['some', 'stuff']\n",
      "['to', 'show', 'slicing']\n"
     ]
    }
   ],
   "source": [
    "some_stuff = ['list', 'of', 'some', 'stuff', 'to', 'show', 'slicing']\r\n",
    "print(some_stuff[0:3])\r\n",
    "# Same thing\r\n",
    "print(some_stuff[:3])\r\n",
    "print(some_stuff[2:4])\r\n",
    "print(some_stuff[4:])"
   ]
  },
  {
   "cell_type": "markdown",
   "metadata": {},
   "source": [
    "* Output the last 3 elements of a list:"
   ]
  },
  {
   "cell_type": "code",
   "execution_count": 10,
   "metadata": {},
   "outputs": [
    {
     "name": "stdout",
     "output_type": "stream",
     "text": [
      "['to', 'show', 'slicing']\n"
     ]
    }
   ],
   "source": [
    "print(some_stuff[-3:])"
   ]
  },
  {
   "cell_type": "markdown",
   "metadata": {},
   "source": [
    "* You can slice in a for loop to loop through only a subset of elements."
   ]
  },
  {
   "cell_type": "code",
   "execution_count": 13,
   "metadata": {},
   "outputs": [
    {
     "name": "stdout",
     "output_type": "stream",
     "text": [
      "Here is some stuff:\n",
      "List\n",
      "Of\n",
      "Some\n"
     ]
    }
   ],
   "source": [
    "print(\"Here is some stuff:\")\r\n",
    "for stuff in some_stuff[:3]:\r\n",
    "    print(stuff.title())"
   ]
  },
  {
   "cell_type": "markdown",
   "metadata": {},
   "source": [
    "* Copy a list by making a slice that omits both numbers:"
   ]
  },
  {
   "cell_type": "code",
   "execution_count": 14,
   "metadata": {},
   "outputs": [
    {
     "name": "stdout",
     "output_type": "stream",
     "text": [
      "['Steak', 'Pizza', \"Shepherd's pie\"]\n",
      "['Steak', 'Pizza', \"Shepherd's pie\"]\n"
     ]
    }
   ],
   "source": [
    "my_favorite_foods = ['Steak', 'Pizza', \"Shepherd's pie\"]\r\n",
    "friends_favorite_foods = my_favorite_foods[:]\r\n",
    "\r\n",
    "# Show both are the same:\r\n",
    "print(my_favorite_foods)\r\n",
    "print(friends_favorite_foods)"
   ]
  },
  {
   "cell_type": "code",
   "execution_count": 15,
   "metadata": {},
   "outputs": [
    {
     "name": "stdout",
     "output_type": "stream",
     "text": [
      "['Steak', 'Pizza', \"Shepherd's pie\"]\n",
      "['Steak', 'Pizza', \"Shepherd's pie\", 'Pad Thai']\n"
     ]
    }
   ],
   "source": [
    "# Now add to the second and show that only it has changed\r\n",
    "friends_favorite_foods.append('Pad Thai')\r\n",
    "print(my_favorite_foods)\r\n",
    "print(friends_favorite_foods)"
   ]
  },
  {
   "cell_type": "markdown",
   "metadata": {},
   "source": [
    "* You cannot however copy a list by simply assigning to another variable, both variables will reference the same value."
   ]
  },
  {
   "cell_type": "code",
   "execution_count": 18,
   "metadata": {},
   "outputs": [
    {
     "name": "stdout",
     "output_type": "stream",
     "text": [
      "['test']\n",
      "['test']\n"
     ]
    }
   ],
   "source": [
    "test = ['test']\r\n",
    "trycopy = test\r\n",
    "\r\n",
    "# print both\r\n",
    "print(test)\r\n",
    "print(trycopy)"
   ]
  },
  {
   "cell_type": "code",
   "execution_count": 19,
   "metadata": {},
   "outputs": [
    {
     "name": "stdout",
     "output_type": "stream",
     "text": [
      "['test', 'copy']\n",
      "['test', 'copy']\n"
     ]
    }
   ],
   "source": [
    "# Change trycopy now and print both again, notice both updated:\r\n",
    "trycopy.append('copy')\r\n",
    "print(test)\r\n",
    "print(trycopy)"
   ]
  },
  {
   "cell_type": "markdown",
   "metadata": {},
   "source": [
    "## Tuples\r\n",
    "\r\n",
    "* Lists that cannot be changed are called *tuples*\r\n",
    "* Looks just like a list but you use `()` instead of square brackets.\r\n",
    "    * *NOTE: This is technically untrue. Technically only the comma is needed for a tuple, but the parenthesis make it cleaner.*\r\n",
    "* Index-accessible just like regular lists."
   ]
  },
  {
   "cell_type": "code",
   "execution_count": 20,
   "metadata": {},
   "outputs": [
    {
     "name": "stdout",
     "output_type": "stream",
     "text": [
      "50\n"
     ]
    }
   ],
   "source": [
    "dimensions = (200, 50)\r\n",
    "print(dimensions[1])"
   ]
  },
  {
   "cell_type": "code",
   "execution_count": 21,
   "metadata": {},
   "outputs": [
    {
     "ename": "AttributeError",
     "evalue": "'tuple' object has no attribute 'append'",
     "output_type": "error",
     "traceback": [
      "\u001b[1;31m---------------------------------------------------------------------------\u001b[0m",
      "\u001b[1;31mAttributeError\u001b[0m                            Traceback (most recent call last)",
      "\u001b[1;32m<ipython-input-21-dbe74970e8b1>\u001b[0m in \u001b[0;36m<module>\u001b[1;34m\u001b[0m\n\u001b[0;32m      1\u001b[0m \u001b[1;31m# Will throw if you try to change it\u001b[0m\u001b[1;33m\u001b[0m\u001b[1;33m\u001b[0m\u001b[1;33m\u001b[0m\u001b[0m\n\u001b[1;32m----> 2\u001b[1;33m \u001b[0mdimensions\u001b[0m\u001b[1;33m.\u001b[0m\u001b[0mappend\u001b[0m\u001b[1;33m(\u001b[0m\u001b[1;36m5\u001b[0m\u001b[1;33m)\u001b[0m\u001b[1;33m\u001b[0m\u001b[1;33m\u001b[0m\u001b[0m\n\u001b[0m",
      "\u001b[1;31mAttributeError\u001b[0m: 'tuple' object has no attribute 'append'"
     ]
    }
   ],
   "source": [
    "# Will throw if you try to change it\r\n",
    "dimensions.append(5)"
   ]
  },
  {
   "cell_type": "markdown",
   "metadata": {},
   "source": [
    "* While you can't update a tuple, you can redefine it:"
   ]
  },
  {
   "cell_type": "code",
   "execution_count": 23,
   "metadata": {},
   "outputs": [
    {
     "name": "stdout",
     "output_type": "stream",
     "text": [
      "(200, 50)\n",
      "(400, 50)\n"
     ]
    }
   ],
   "source": [
    "dimensions = (200, 50)\r\n",
    "print(dimensions)\r\n",
    "dimensions = (400, 50)\r\n",
    "print(dimensions)"
   ]
  },
  {
   "cell_type": "markdown",
   "metadata": {},
   "source": [
    "## Style guide\r\n",
    "\r\n",
    "*NOTE: This is kind of a weird place for this in my notes.*\r\n",
    "\r\n",
    "* Style guide for Python is [PEP8](https://www.python.org/dev/peps/pep-0008/)\r\n",
    "* Recommends using 4 spaces instead of tabs\r\n",
    "* Line length is generally recommended at 80 lines (I personally think this is ridiculous given modern monitors and will likely use 130 unless working on someone else's code.)\r\n",
    "* Use blank lines to separate parts of the program visually.\r\n"
   ]
  }
 ],
 "metadata": {
  "kernelspec": {
   "display_name": "Python 3",
   "language": "python",
   "name": "python3"
  },
  "language_info": {
   "codemirror_mode": {
    "name": "ipython",
    "version": 3
   },
   "file_extension": ".py",
   "mimetype": "text/x-python",
   "name": "python",
   "nbconvert_exporter": "python",
   "pygments_lexer": "ipython3",
   "version": "3.9.1"
  },
  "orig_nbformat": 2
 },
 "nbformat": 4,
 "nbformat_minor": 2
}